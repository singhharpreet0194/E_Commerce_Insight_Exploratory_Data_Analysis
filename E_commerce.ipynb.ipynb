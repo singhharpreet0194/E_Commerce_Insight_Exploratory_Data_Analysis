{
  "cells": [
    {
      "cell_type": "markdown",
      "id": "6a7d5404",
      "metadata": {
        "id": "6a7d5404"
      },
      "source": [
        "<font color='blue'>\n",
        "    <font size = 5>\n",
        "        You have been given the role of a business analyst for an E-Commerce company and have been asked to prepare a basic report on the data. Follow the steps below for preparation of the report. \n",
        "\n",
        "Before you start analysing the data, it is always a good practice to see the size of the data, its features and feature types. If the data set is big, it is not possible to print out all the records. \n",
        "    </font>\n",
        "####  Note: Use the markdown feature of Python to explain your answer.\n",
        "    "
      ]
    },
    {
      "cell_type": "markdown",
      "id": "daf5d935",
      "metadata": {
        "id": "daf5d935"
      },
      "source": [
        "## Load the necessary libraries. Import and load the dataset with a name ECom_Data ."
      ]
    },
    {
      "cell_type": "markdown",
      "source": [
        "\n",
        "\n",
        "*   Using df as dataset name instead of ECom_Data\n",
        "\n",
        "\n"
      ],
      "metadata": {
        "id": "NXobt0xTnv4R"
      },
      "id": "NXobt0xTnv4R"
    },
    {
      "cell_type": "code",
      "execution_count": null,
      "id": "eec2a3b5",
      "metadata": {
        "id": "eec2a3b5"
      },
      "outputs": [],
      "source": [
        "import numpy as np\n",
        "import pandas as pd\n",
        "import matplotlib.pyplot as plt\n",
        "import seaborn as sns\n",
        "pd.options.display.max_rows = 10"
      ]
    },
    {
      "cell_type": "code",
      "execution_count": null,
      "id": "8e1fcc97",
      "metadata": {
        "id": "8e1fcc97"
      },
      "outputs": [],
      "source": [
        "# Get the Data\n",
        "\n",
        "df=pd.read_csv(\"/content/drive/MyDrive/Great learning/week-3-vizualization/E-Commerce.csv\")\n"
      ]
    },
    {
      "cell_type": "code",
      "source": [
        "from google.colab import drive\n",
        "\n",
        "drive.mount('/content/drive')\n"
      ],
      "metadata": {
        "colab": {
          "base_uri": "https://localhost:8080/"
        },
        "id": "VKyfcm4vASDl",
        "outputId": "edbedfa5-cec5-4773-e859-5c79a55e312d"
      },
      "id": "VKyfcm4vASDl",
      "execution_count": null,
      "outputs": [
        {
          "output_type": "stream",
          "name": "stdout",
          "text": [
            "Drive already mounted at /content/drive; to attempt to forcibly remount, call drive.mount(\"/content/drive\", force_remount=True).\n"
          ]
        }
      ]
    },
    {
      "cell_type": "markdown",
      "source": [
        "###Lets check the shape of data\n",
        "\n"
      ],
      "metadata": {
        "id": "d7J9GqhSsb1B"
      },
      "id": "d7J9GqhSsb1B"
    },
    {
      "cell_type": "code",
      "source": [
        "df.shape"
      ],
      "metadata": {
        "colab": {
          "base_uri": "https://localhost:8080/"
        },
        "id": "sQZpVEZ5Awzz",
        "outputId": "fca42224-5b1e-4f30-d952-71125035989f"
      },
      "id": "sQZpVEZ5Awzz",
      "execution_count": null,
      "outputs": [
        {
          "output_type": "execute_result",
          "data": {
            "text/plain": [
              "(8906, 17)"
            ]
          },
          "metadata": {},
          "execution_count": 5
        }
      ]
    },
    {
      "cell_type": "markdown",
      "source": [
        "\n",
        "*   There are 8906 rows and 17 columns in this dataset.\n",
        "\n"
      ],
      "metadata": {
        "id": "mp33k5tqsMbJ"
      },
      "id": "mp33k5tqsMbJ"
    },
    {
      "cell_type": "markdown",
      "source": [
        "####Lets check for the features/column names of this dataset\n"
      ],
      "metadata": {
        "id": "KYyOpEubssf9"
      },
      "id": "KYyOpEubssf9"
    },
    {
      "cell_type": "code",
      "source": [
        "df.columns"
      ],
      "metadata": {
        "colab": {
          "base_uri": "https://localhost:8080/"
        },
        "id": "41ZiqxVbA07m",
        "outputId": "56950399-d59b-41d8-a862-4875cedafd45"
      },
      "id": "41ZiqxVbA07m",
      "execution_count": null,
      "outputs": [
        {
          "output_type": "execute_result",
          "data": {
            "text/plain": [
              "Index(['Customer_uniq_id', 'Region', 'Order_Date', 'Expected_Delivery_Date',\n",
              "       'Delivered_Date', 'product_name', 'product_main_category',\n",
              "       'product_subcategory', 'product_category_filter',\n",
              "       'product_category_subfilter', 'product_unique ID', 'retail_price',\n",
              "       'discounted_price', 'product_rating', 'Brand', 'product_specifications',\n",
              "       'description'],\n",
              "      dtype='object')"
            ]
          },
          "metadata": {},
          "execution_count": 6
        }
      ]
    },
    {
      "cell_type": "markdown",
      "source": [
        "#### Check data type of each individual feature"
      ],
      "metadata": {
        "id": "GYEpGfBWs6vT"
      },
      "id": "GYEpGfBWs6vT"
    },
    {
      "cell_type": "code",
      "source": [
        "df.info()"
      ],
      "metadata": {
        "colab": {
          "base_uri": "https://localhost:8080/"
        },
        "id": "v8GwM4Ngs4iE",
        "outputId": "c76dca4a-0ee8-4fc4-c419-e05bc5bb2ebf"
      },
      "id": "v8GwM4Ngs4iE",
      "execution_count": null,
      "outputs": [
        {
          "output_type": "stream",
          "name": "stdout",
          "text": [
            "<class 'pandas.core.frame.DataFrame'>\n",
            "RangeIndex: 8906 entries, 0 to 8905\n",
            "Data columns (total 17 columns):\n",
            " #   Column                      Non-Null Count  Dtype  \n",
            "---  ------                      --------------  -----  \n",
            " 0   Customer_uniq_id            8906 non-null   object \n",
            " 1   Region                      8906 non-null   object \n",
            " 2   Order_Date                  8906 non-null   object \n",
            " 3   Expected_Delivery_Date      8906 non-null   object \n",
            " 4   Delivered_Date              8906 non-null   object \n",
            " 5   product_name                8906 non-null   object \n",
            " 6   product_main_category       8906 non-null   object \n",
            " 7   product_subcategory         8906 non-null   object \n",
            " 8   product_category_filter     8906 non-null   object \n",
            " 9   product_category_subfilter  8906 non-null   object \n",
            " 10  product_unique ID           8906 non-null   object \n",
            " 11  retail_price                8906 non-null   int64  \n",
            " 12  discounted_price            8906 non-null   int64  \n",
            " 13  product_rating              8906 non-null   float64\n",
            " 14  Brand                       8906 non-null   object \n",
            " 15  product_specifications      8906 non-null   object \n",
            " 16  description                 8906 non-null   object \n",
            "dtypes: float64(1), int64(2), object(14)\n",
            "memory usage: 1.2+ MB\n"
          ]
        }
      ]
    },
    {
      "cell_type": "markdown",
      "id": "2cf5f20f",
      "metadata": {
        "id": "2cf5f20f"
      },
      "source": [
        "<font color='blue'>\n",
        "    <font size = 5>\n",
        "        We have read the data and stored the data in \"ECom_Data\" variable </font>"
      ]
    },
    {
      "cell_type": "markdown",
      "source": [
        "*   Using df as dataset name instead of ECom_Data"
      ],
      "metadata": {
        "id": "QWrH9PLPoJem"
      },
      "id": "QWrH9PLPoJem"
    },
    {
      "cell_type": "markdown",
      "id": "a0a4f84a",
      "metadata": {
        "id": "a0a4f84a"
      },
      "source": [
        "## Q 1.\tTo get familiar with the data\n",
        "## a)\tPrint out the first 10 and the last 10 records of the data. (2 marks)\n",
        "## b)\tHow many rows and columns are present in the dataset? Use any two different methods to extract this information. (2 + 2 + 2 marks)\n",
        "## c)\tHow many object data types are there? (1 mark)\n",
        "## d)\tIs there any Boolean data type? (1 mark) \n",
        "#### Note: Use the markdown feature of Python to explain your answer.\n"
      ]
    },
    {
      "cell_type": "markdown",
      "id": "0ba43d74",
      "metadata": {
        "id": "0ba43d74"
      },
      "source": [
        "####Ans 1 a) First 10 records of the Dataset"
      ]
    },
    {
      "cell_type": "code",
      "execution_count": null,
      "id": "6684f5a1",
      "metadata": {
        "colab": {
          "base_uri": "https://localhost:8080/",
          "height": 1000
        },
        "id": "6684f5a1",
        "outputId": "4f7f5622-dd56-4f20-881a-04d7e541434c"
      },
      "outputs": [
        {
          "output_type": "execute_result",
          "data": {
            "text/plain": [
              "                   Customer_uniq_id Region  Order_Date Expected_Delivery_Date  \\\n",
              "0  e71017e224688489edfe856f2308806d  East   24-10-2021             25-10-2021   \n",
              "1  6286847ee2da18f587503db49511c539  East   24-10-2021             25-10-2021   \n",
              "2  0686fec9b70e5039583a38119ca0c835   West  24-10-2021             25-10-2021   \n",
              "3  ea2406dc597bee2abb6b867fa668501f   West  24-10-2021             25-10-2021   \n",
              "4  5935ed077915347dc695744df68c565c  East   03-09-2021             04-09-2021   \n",
              "5  89fcdddaad50084e395d0928a7426afe  East   03-09-2021             04-09-2021   \n",
              "6  b9b183aa18d3a721d2ac23e7184525b0  East   03-09-2021             04-09-2021   \n",
              "7  dee64864c0419bec80fbbb94d19bc40d  East   03-09-2021             04-09-2021   \n",
              "8  595f55f2c1293f07ea9ec9fa2bb39f46  East   03-09-2021             04-09-2021   \n",
              "9  547b6585272473ae006bcfbdb47b6ae0   West  26-08-2021             27-08-2021   \n",
              "\n",
              "  Delivered_Date                                       product_name  \\\n",
              "0     25-10-2021  Indcrown Net Embroidered Semi-stitched Lehenga...   \n",
              "1     25-10-2021      Shopmania Music Band A5 Notebook Spiral Bound   \n",
              "2     25-10-2021      Shopmania Music Band A5 Notebook Spiral Bound   \n",
              "3     25-10-2021  Tiara Diaries 2016-2017 Designer LA Kaarta \"TA...   \n",
              "4     04-09-2021                KAJCI Embroidered Women's Waistcoat   \n",
              "5     04-09-2021  Packman 8 x 10 inches Security Bags Without PO...   \n",
              "6     04-09-2021          Pick Pocket Embroidered Women's Waistcoat   \n",
              "7     04-09-2021                        Angelfish Silk Potali Potli   \n",
              "8     04-09-2021                                 Oye Boy's Dungaree   \n",
              "9     27-08-2021                                Nuride Canvas Shoes   \n",
              "\n",
              "    product_main_category    product_subcategory    product_category_filter  \\\n",
              "0               Clothing       Women's Clothing                Ethnic Wear    \n",
              "1      Pens & Stationery    Diaries & Notebooks                  Notebooks    \n",
              "2      Pens & Stationery    Diaries & Notebooks                  Notebooks    \n",
              "3      Pens & Stationery    Diaries & Notebooks                  Notebooks    \n",
              "4               Clothing       Women's Clothing                Formal Wear    \n",
              "5      Pens & Stationery        Office Supplies    Packaging Security Bags    \n",
              "6               Clothing       Women's Clothing                Formal Wear    \n",
              "7  Bags, Wallets & Belts                   Bags         Pouches and Potlis    \n",
              "8               Clothing         Kids' Clothing                  Boys Wear    \n",
              "9               Footwear       Women's Footwear               Casual Shoes    \n",
              "\n",
              "          product_category_subfilter product_unique ID  retail_price  \\\n",
              "0                            Fabric   FABEJX2NHNKCYHKA           999   \n",
              "1                          Designer   DIAEJ6Z8BEDTGGYY           499   \n",
              "2                          Designer   DIAEJ6Z8KQFWDEGH           499   \n",
              "3                          Designer   DIAEJ8FGHZ3K86JU          1000   \n",
              "4                        Waistcoats   WSCEG2FYDYFDSVZ6          1200   \n",
              "5   Packman Packaging Security Bags   PKBEGBTRKKHU26YQ           350   \n",
              "6                        Waistcoats   WSCEFUV4TVWT73ZB           899   \n",
              "7      Angelfish Pouches and Potlis   PPSEGFYAGD8FYUXV           999   \n",
              "8             Dungarees & Jumpsuits   DRPEF2XSFBAP4SUZ           899   \n",
              "9                            Canvas   SHOEGVQCT2ZSGUHY          1999   \n",
              "\n",
              "   discounted_price  product_rating          Brand  \\\n",
              "0               699             4.0       Indcrown   \n",
              "1               275             1.0      Shopmania   \n",
              "2               275             2.0      Shopmania   \n",
              "3               837             3.0  Tiara Diaries   \n",
              "4               699             5.0          KAJCI   \n",
              "5               298             4.0        Packman   \n",
              "6               899             1.0    Pick Pocket   \n",
              "7               399             4.0      Angelfish   \n",
              "8               764             1.0            Oye   \n",
              "9              1349             2.0         Nuride   \n",
              "\n",
              "                              product_specifications  \\\n",
              "0  {\"product_specification\"=>[{\"key\"=>\"Fabric\", \"...   \n",
              "1  {\"product_specification\"=>[{\"key\"=>\"Ruling\", \"...   \n",
              "2  {\"product_specification\"=>[{\"key\"=>\"Ruling\", \"...   \n",
              "3  {\"product_specification\"=>[{\"key\"=>\"Ruling\", \"...   \n",
              "4  {\"product_specification\"=>[{\"key\"=>\"Pattern\", ...   \n",
              "5  {\"product_specification\"=>[{\"key\"=>\"Bubble Wra...   \n",
              "6  {\"product_specification\"=>[{\"key\"=>\"Pattern\", ...   \n",
              "7  {\"product_specification\"=>[{\"key\"=>\"Closure\", ...   \n",
              "8  {\"product_specification\"=>[{\"key\"=>\"Number of ...   \n",
              "9  {\"product_specification\"=>[{\"key\"=>\"Occasion\",...   \n",
              "\n",
              "                                         description  \n",
              "0  Key Features of Indcrown Net Embroidered Semi-...  \n",
              "1  Specifications of Shopmania Music Band A5 Note...  \n",
              "2  Specifications of Shopmania Music Band A5 Note...  \n",
              "3  Specifications of Tiara Diaries 2016-2017 Desi...  \n",
              "4  Specifications of KAJCI Embroidered Women's Wa...  \n",
              "5  Key Features of Packman 8 x 10 inches Security...  \n",
              "6  Specifications of Pick Pocket Embroidered Wome...  \n",
              "7  Angelfish Silk Potali Potli (Multicolor) Price...  \n",
              "8  Specifications of Oye Boy's Dungaree Top Detai...  \n",
              "9  Key Features of Nuride Canvas Shoes Material: ...  "
            ],
            "text/html": [
              "\n",
              "  <div id=\"df-1f9af28d-682d-4b84-bbf1-4c961d04c5b5\">\n",
              "    <div class=\"colab-df-container\">\n",
              "      <div>\n",
              "<style scoped>\n",
              "    .dataframe tbody tr th:only-of-type {\n",
              "        vertical-align: middle;\n",
              "    }\n",
              "\n",
              "    .dataframe tbody tr th {\n",
              "        vertical-align: top;\n",
              "    }\n",
              "\n",
              "    .dataframe thead th {\n",
              "        text-align: right;\n",
              "    }\n",
              "</style>\n",
              "<table border=\"1\" class=\"dataframe\">\n",
              "  <thead>\n",
              "    <tr style=\"text-align: right;\">\n",
              "      <th></th>\n",
              "      <th>Customer_uniq_id</th>\n",
              "      <th>Region</th>\n",
              "      <th>Order_Date</th>\n",
              "      <th>Expected_Delivery_Date</th>\n",
              "      <th>Delivered_Date</th>\n",
              "      <th>product_name</th>\n",
              "      <th>product_main_category</th>\n",
              "      <th>product_subcategory</th>\n",
              "      <th>product_category_filter</th>\n",
              "      <th>product_category_subfilter</th>\n",
              "      <th>product_unique ID</th>\n",
              "      <th>retail_price</th>\n",
              "      <th>discounted_price</th>\n",
              "      <th>product_rating</th>\n",
              "      <th>Brand</th>\n",
              "      <th>product_specifications</th>\n",
              "      <th>description</th>\n",
              "    </tr>\n",
              "  </thead>\n",
              "  <tbody>\n",
              "    <tr>\n",
              "      <th>0</th>\n",
              "      <td>e71017e224688489edfe856f2308806d</td>\n",
              "      <td>East</td>\n",
              "      <td>24-10-2021</td>\n",
              "      <td>25-10-2021</td>\n",
              "      <td>25-10-2021</td>\n",
              "      <td>Indcrown Net Embroidered Semi-stitched Lehenga...</td>\n",
              "      <td>Clothing</td>\n",
              "      <td>Women's Clothing</td>\n",
              "      <td>Ethnic Wear</td>\n",
              "      <td>Fabric</td>\n",
              "      <td>FABEJX2NHNKCYHKA</td>\n",
              "      <td>999</td>\n",
              "      <td>699</td>\n",
              "      <td>4.0</td>\n",
              "      <td>Indcrown</td>\n",
              "      <td>{\"product_specification\"=&gt;[{\"key\"=&gt;\"Fabric\", \"...</td>\n",
              "      <td>Key Features of Indcrown Net Embroidered Semi-...</td>\n",
              "    </tr>\n",
              "    <tr>\n",
              "      <th>1</th>\n",
              "      <td>6286847ee2da18f587503db49511c539</td>\n",
              "      <td>East</td>\n",
              "      <td>24-10-2021</td>\n",
              "      <td>25-10-2021</td>\n",
              "      <td>25-10-2021</td>\n",
              "      <td>Shopmania Music Band A5 Notebook Spiral Bound</td>\n",
              "      <td>Pens &amp; Stationery</td>\n",
              "      <td>Diaries &amp; Notebooks</td>\n",
              "      <td>Notebooks</td>\n",
              "      <td>Designer</td>\n",
              "      <td>DIAEJ6Z8BEDTGGYY</td>\n",
              "      <td>499</td>\n",
              "      <td>275</td>\n",
              "      <td>1.0</td>\n",
              "      <td>Shopmania</td>\n",
              "      <td>{\"product_specification\"=&gt;[{\"key\"=&gt;\"Ruling\", \"...</td>\n",
              "      <td>Specifications of Shopmania Music Band A5 Note...</td>\n",
              "    </tr>\n",
              "    <tr>\n",
              "      <th>2</th>\n",
              "      <td>0686fec9b70e5039583a38119ca0c835</td>\n",
              "      <td>West</td>\n",
              "      <td>24-10-2021</td>\n",
              "      <td>25-10-2021</td>\n",
              "      <td>25-10-2021</td>\n",
              "      <td>Shopmania Music Band A5 Notebook Spiral Bound</td>\n",
              "      <td>Pens &amp; Stationery</td>\n",
              "      <td>Diaries &amp; Notebooks</td>\n",
              "      <td>Notebooks</td>\n",
              "      <td>Designer</td>\n",
              "      <td>DIAEJ6Z8KQFWDEGH</td>\n",
              "      <td>499</td>\n",
              "      <td>275</td>\n",
              "      <td>2.0</td>\n",
              "      <td>Shopmania</td>\n",
              "      <td>{\"product_specification\"=&gt;[{\"key\"=&gt;\"Ruling\", \"...</td>\n",
              "      <td>Specifications of Shopmania Music Band A5 Note...</td>\n",
              "    </tr>\n",
              "    <tr>\n",
              "      <th>3</th>\n",
              "      <td>ea2406dc597bee2abb6b867fa668501f</td>\n",
              "      <td>West</td>\n",
              "      <td>24-10-2021</td>\n",
              "      <td>25-10-2021</td>\n",
              "      <td>25-10-2021</td>\n",
              "      <td>Tiara Diaries 2016-2017 Designer LA Kaarta \"TA...</td>\n",
              "      <td>Pens &amp; Stationery</td>\n",
              "      <td>Diaries &amp; Notebooks</td>\n",
              "      <td>Notebooks</td>\n",
              "      <td>Designer</td>\n",
              "      <td>DIAEJ8FGHZ3K86JU</td>\n",
              "      <td>1000</td>\n",
              "      <td>837</td>\n",
              "      <td>3.0</td>\n",
              "      <td>Tiara Diaries</td>\n",
              "      <td>{\"product_specification\"=&gt;[{\"key\"=&gt;\"Ruling\", \"...</td>\n",
              "      <td>Specifications of Tiara Diaries 2016-2017 Desi...</td>\n",
              "    </tr>\n",
              "    <tr>\n",
              "      <th>4</th>\n",
              "      <td>5935ed077915347dc695744df68c565c</td>\n",
              "      <td>East</td>\n",
              "      <td>03-09-2021</td>\n",
              "      <td>04-09-2021</td>\n",
              "      <td>04-09-2021</td>\n",
              "      <td>KAJCI Embroidered Women's Waistcoat</td>\n",
              "      <td>Clothing</td>\n",
              "      <td>Women's Clothing</td>\n",
              "      <td>Formal Wear</td>\n",
              "      <td>Waistcoats</td>\n",
              "      <td>WSCEG2FYDYFDSVZ6</td>\n",
              "      <td>1200</td>\n",
              "      <td>699</td>\n",
              "      <td>5.0</td>\n",
              "      <td>KAJCI</td>\n",
              "      <td>{\"product_specification\"=&gt;[{\"key\"=&gt;\"Pattern\", ...</td>\n",
              "      <td>Specifications of KAJCI Embroidered Women's Wa...</td>\n",
              "    </tr>\n",
              "    <tr>\n",
              "      <th>5</th>\n",
              "      <td>89fcdddaad50084e395d0928a7426afe</td>\n",
              "      <td>East</td>\n",
              "      <td>03-09-2021</td>\n",
              "      <td>04-09-2021</td>\n",
              "      <td>04-09-2021</td>\n",
              "      <td>Packman 8 x 10 inches Security Bags Without PO...</td>\n",
              "      <td>Pens &amp; Stationery</td>\n",
              "      <td>Office Supplies</td>\n",
              "      <td>Packaging Security Bags</td>\n",
              "      <td>Packman Packaging Security Bags</td>\n",
              "      <td>PKBEGBTRKKHU26YQ</td>\n",
              "      <td>350</td>\n",
              "      <td>298</td>\n",
              "      <td>4.0</td>\n",
              "      <td>Packman</td>\n",
              "      <td>{\"product_specification\"=&gt;[{\"key\"=&gt;\"Bubble Wra...</td>\n",
              "      <td>Key Features of Packman 8 x 10 inches Security...</td>\n",
              "    </tr>\n",
              "    <tr>\n",
              "      <th>6</th>\n",
              "      <td>b9b183aa18d3a721d2ac23e7184525b0</td>\n",
              "      <td>East</td>\n",
              "      <td>03-09-2021</td>\n",
              "      <td>04-09-2021</td>\n",
              "      <td>04-09-2021</td>\n",
              "      <td>Pick Pocket Embroidered Women's Waistcoat</td>\n",
              "      <td>Clothing</td>\n",
              "      <td>Women's Clothing</td>\n",
              "      <td>Formal Wear</td>\n",
              "      <td>Waistcoats</td>\n",
              "      <td>WSCEFUV4TVWT73ZB</td>\n",
              "      <td>899</td>\n",
              "      <td>899</td>\n",
              "      <td>1.0</td>\n",
              "      <td>Pick Pocket</td>\n",
              "      <td>{\"product_specification\"=&gt;[{\"key\"=&gt;\"Pattern\", ...</td>\n",
              "      <td>Specifications of Pick Pocket Embroidered Wome...</td>\n",
              "    </tr>\n",
              "    <tr>\n",
              "      <th>7</th>\n",
              "      <td>dee64864c0419bec80fbbb94d19bc40d</td>\n",
              "      <td>East</td>\n",
              "      <td>03-09-2021</td>\n",
              "      <td>04-09-2021</td>\n",
              "      <td>04-09-2021</td>\n",
              "      <td>Angelfish Silk Potali Potli</td>\n",
              "      <td>Bags, Wallets &amp; Belts</td>\n",
              "      <td>Bags</td>\n",
              "      <td>Pouches and Potlis</td>\n",
              "      <td>Angelfish Pouches and Potlis</td>\n",
              "      <td>PPSEGFYAGD8FYUXV</td>\n",
              "      <td>999</td>\n",
              "      <td>399</td>\n",
              "      <td>4.0</td>\n",
              "      <td>Angelfish</td>\n",
              "      <td>{\"product_specification\"=&gt;[{\"key\"=&gt;\"Closure\", ...</td>\n",
              "      <td>Angelfish Silk Potali Potli (Multicolor) Price...</td>\n",
              "    </tr>\n",
              "    <tr>\n",
              "      <th>8</th>\n",
              "      <td>595f55f2c1293f07ea9ec9fa2bb39f46</td>\n",
              "      <td>East</td>\n",
              "      <td>03-09-2021</td>\n",
              "      <td>04-09-2021</td>\n",
              "      <td>04-09-2021</td>\n",
              "      <td>Oye Boy's Dungaree</td>\n",
              "      <td>Clothing</td>\n",
              "      <td>Kids' Clothing</td>\n",
              "      <td>Boys Wear</td>\n",
              "      <td>Dungarees &amp; Jumpsuits</td>\n",
              "      <td>DRPEF2XSFBAP4SUZ</td>\n",
              "      <td>899</td>\n",
              "      <td>764</td>\n",
              "      <td>1.0</td>\n",
              "      <td>Oye</td>\n",
              "      <td>{\"product_specification\"=&gt;[{\"key\"=&gt;\"Number of ...</td>\n",
              "      <td>Specifications of Oye Boy's Dungaree Top Detai...</td>\n",
              "    </tr>\n",
              "    <tr>\n",
              "      <th>9</th>\n",
              "      <td>547b6585272473ae006bcfbdb47b6ae0</td>\n",
              "      <td>West</td>\n",
              "      <td>26-08-2021</td>\n",
              "      <td>27-08-2021</td>\n",
              "      <td>27-08-2021</td>\n",
              "      <td>Nuride Canvas Shoes</td>\n",
              "      <td>Footwear</td>\n",
              "      <td>Women's Footwear</td>\n",
              "      <td>Casual Shoes</td>\n",
              "      <td>Canvas</td>\n",
              "      <td>SHOEGVQCT2ZSGUHY</td>\n",
              "      <td>1999</td>\n",
              "      <td>1349</td>\n",
              "      <td>2.0</td>\n",
              "      <td>Nuride</td>\n",
              "      <td>{\"product_specification\"=&gt;[{\"key\"=&gt;\"Occasion\",...</td>\n",
              "      <td>Key Features of Nuride Canvas Shoes Material: ...</td>\n",
              "    </tr>\n",
              "  </tbody>\n",
              "</table>\n",
              "</div>\n",
              "      <button class=\"colab-df-convert\" onclick=\"convertToInteractive('df-1f9af28d-682d-4b84-bbf1-4c961d04c5b5')\"\n",
              "              title=\"Convert this dataframe to an interactive table.\"\n",
              "              style=\"display:none;\">\n",
              "        \n",
              "  <svg xmlns=\"http://www.w3.org/2000/svg\" height=\"24px\"viewBox=\"0 0 24 24\"\n",
              "       width=\"24px\">\n",
              "    <path d=\"M0 0h24v24H0V0z\" fill=\"none\"/>\n",
              "    <path d=\"M18.56 5.44l.94 2.06.94-2.06 2.06-.94-2.06-.94-.94-2.06-.94 2.06-2.06.94zm-11 1L8.5 8.5l.94-2.06 2.06-.94-2.06-.94L8.5 2.5l-.94 2.06-2.06.94zm10 10l.94 2.06.94-2.06 2.06-.94-2.06-.94-.94-2.06-.94 2.06-2.06.94z\"/><path d=\"M17.41 7.96l-1.37-1.37c-.4-.4-.92-.59-1.43-.59-.52 0-1.04.2-1.43.59L10.3 9.45l-7.72 7.72c-.78.78-.78 2.05 0 2.83L4 21.41c.39.39.9.59 1.41.59.51 0 1.02-.2 1.41-.59l7.78-7.78 2.81-2.81c.8-.78.8-2.07 0-2.86zM5.41 20L4 18.59l7.72-7.72 1.47 1.35L5.41 20z\"/>\n",
              "  </svg>\n",
              "      </button>\n",
              "      \n",
              "  <style>\n",
              "    .colab-df-container {\n",
              "      display:flex;\n",
              "      flex-wrap:wrap;\n",
              "      gap: 12px;\n",
              "    }\n",
              "\n",
              "    .colab-df-convert {\n",
              "      background-color: #E8F0FE;\n",
              "      border: none;\n",
              "      border-radius: 50%;\n",
              "      cursor: pointer;\n",
              "      display: none;\n",
              "      fill: #1967D2;\n",
              "      height: 32px;\n",
              "      padding: 0 0 0 0;\n",
              "      width: 32px;\n",
              "    }\n",
              "\n",
              "    .colab-df-convert:hover {\n",
              "      background-color: #E2EBFA;\n",
              "      box-shadow: 0px 1px 2px rgba(60, 64, 67, 0.3), 0px 1px 3px 1px rgba(60, 64, 67, 0.15);\n",
              "      fill: #174EA6;\n",
              "    }\n",
              "\n",
              "    [theme=dark] .colab-df-convert {\n",
              "      background-color: #3B4455;\n",
              "      fill: #D2E3FC;\n",
              "    }\n",
              "\n",
              "    [theme=dark] .colab-df-convert:hover {\n",
              "      background-color: #434B5C;\n",
              "      box-shadow: 0px 1px 3px 1px rgba(0, 0, 0, 0.15);\n",
              "      filter: drop-shadow(0px 1px 2px rgba(0, 0, 0, 0.3));\n",
              "      fill: #FFFFFF;\n",
              "    }\n",
              "  </style>\n",
              "\n",
              "      <script>\n",
              "        const buttonEl =\n",
              "          document.querySelector('#df-1f9af28d-682d-4b84-bbf1-4c961d04c5b5 button.colab-df-convert');\n",
              "        buttonEl.style.display =\n",
              "          google.colab.kernel.accessAllowed ? 'block' : 'none';\n",
              "\n",
              "        async function convertToInteractive(key) {\n",
              "          const element = document.querySelector('#df-1f9af28d-682d-4b84-bbf1-4c961d04c5b5');\n",
              "          const dataTable =\n",
              "            await google.colab.kernel.invokeFunction('convertToInteractive',\n",
              "                                                     [key], {});\n",
              "          if (!dataTable) return;\n",
              "\n",
              "          const docLinkHtml = 'Like what you see? Visit the ' +\n",
              "            '<a target=\"_blank\" href=https://colab.research.google.com/notebooks/data_table.ipynb>data table notebook</a>'\n",
              "            + ' to learn more about interactive tables.';\n",
              "          element.innerHTML = '';\n",
              "          dataTable['output_type'] = 'display_data';\n",
              "          await google.colab.output.renderOutput(dataTable, element);\n",
              "          const docLink = document.createElement('div');\n",
              "          docLink.innerHTML = docLinkHtml;\n",
              "          element.appendChild(docLink);\n",
              "        }\n",
              "      </script>\n",
              "    </div>\n",
              "  </div>\n",
              "  "
            ]
          },
          "metadata": {},
          "execution_count": 8
        }
      ],
      "source": [
        "df.head(10)"
      ]
    },
    {
      "cell_type": "markdown",
      "source": [
        "####Last 10 records of dataset"
      ],
      "metadata": {
        "id": "WCW8dOMFtmwi"
      },
      "id": "WCW8dOMFtmwi"
    },
    {
      "cell_type": "code",
      "source": [
        "df.tail(10)"
      ],
      "metadata": {
        "colab": {
          "base_uri": "https://localhost:8080/",
          "height": 1000
        },
        "id": "rw2dsu-utkOC",
        "outputId": "51d9dc34-bfa7-467c-84d1-1644dcad2e56"
      },
      "id": "rw2dsu-utkOC",
      "execution_count": null,
      "outputs": [
        {
          "output_type": "execute_result",
          "data": {
            "text/plain": [
              "                      Customer_uniq_id Region  Order_Date  \\\n",
              "8896  4db03bc4ccbe216cf151b2f2b904ba3f  East   01-12-2020   \n",
              "8897  4d4d6aeb13fa253499d0dd45a5abd87e   West  01-12-2020   \n",
              "8898  ea19e7ef703293d3f6c799ca9db4642d   West  01-12-2020   \n",
              "8899  19a53a958992fb575acffb5d41e7ef9e  East   01-12-2020   \n",
              "8900  09abab80c8dfdc6f268e0a6f05a0be11  North  01-12-2020   \n",
              "8901  90d30478255e23621e8929ed15c2f6e4  South  01-12-2020   \n",
              "8902  20a73e3f41490a73ceeba5f17658db8f   West  01-12-2020   \n",
              "8903  5c1554cd45f9d538c2c6947dbdd59c75  East   01-12-2020   \n",
              "8904  6b737a4deca1ed0e56c179e66036e994   West  01-12-2020   \n",
              "8905  a5235ac28d3d5487f54025f9d6b57433  North  01-12-2020   \n",
              "\n",
              "     Expected_Delivery_Date Delivered_Date  \\\n",
              "8896             04-12-2020     04-12-2020   \n",
              "8897             04-12-2020     04-12-2020   \n",
              "8898             04-12-2020     04-12-2020   \n",
              "8899             04-12-2020     04-12-2020   \n",
              "8900             04-12-2020     04-12-2020   \n",
              "8901             04-12-2020     04-12-2020   \n",
              "8902             04-12-2020     04-12-2020   \n",
              "8903             04-12-2020     04-12-2020   \n",
              "8904             04-12-2020     04-12-2020   \n",
              "8905             04-12-2020     04-12-2020   \n",
              "\n",
              "                                           product_name product_main_category  \\\n",
              "8896                           Luca Fashion Girls Heels             Footwear    \n",
              "8897                            Shoetopia Girls Sandals             Footwear    \n",
              "8898                        SMART TRADERS Girls Sandals             Footwear    \n",
              "8899                                  Beanz Girls Flats             Footwear    \n",
              "8900                       Nova KT 728S Electric Kettle       Home & Kitchen    \n",
              "8901  Sinina Chanderi Embroidered Salwar Suit Dupatt...             Clothing    \n",
              "8902  Aarushi Fashion Chanderi Embroidered Salwar Su...             Clothing    \n",
              "8903  Ambika Lahenga Embroidered Lehenga, Choli and ...             Clothing    \n",
              "8904  Sinina Chanderi Embroidered Salwar Suit Dupatt...             Clothing    \n",
              "8905  Aarushi Fashion Silk Striped Salwar Suit Dupat...             Clothing    \n",
              "\n",
              "            product_subcategory                product_category_filter  \\\n",
              "8896   Kids' & Infant Footwear                              For Girls    \n",
              "8897   Kids' & Infant Footwear                              For Girls    \n",
              "8898   Kids' & Infant Footwear                              For Girls    \n",
              "8899   Kids' & Infant Footwear                              For Girls    \n",
              "8900        Kitchen Appliances    Electric Jug(heater)/Travel Kettles    \n",
              "8901          Women's Clothing                            Ethnic Wear    \n",
              "8902          Women's Clothing                            Ethnic Wear    \n",
              "8903          Women's Clothing                            Ethnic Wear    \n",
              "8904          Women's Clothing                            Ethnic Wear    \n",
              "8905          Women's Clothing                            Ethnic Wear    \n",
              "\n",
              "                      product_category_subfilter product_unique ID  \\\n",
              "8896                                    Sandals   SNDEHG3DNVBFGAT5   \n",
              "8897                                    Sandals   SNDEG7DRWSX8HFXZ   \n",
              "8898                                    Sandals   SNDEG7MZHHKZ58D2   \n",
              "8899                                    Sandals   SNDEG7DYVFWHZBC4   \n",
              "8900   Nova Electric Jug(heater)/Travel Kettles   EKTDG5C5QSADZZ8J   \n",
              "8901                                     Fabric   FABEGGHHDFMY8BZU   \n",
              "8902                                     Fabric   FABEG8GFDUWRSNU3   \n",
              "8903                             Lehenga Cholis   LEHEGGEHYN4G2RPW   \n",
              "8904                                     Fabric   FABEGGHHGSVCHGFV   \n",
              "8905                                     Fabric   FABEG8GYDAABECZH   \n",
              "\n",
              "      retail_price  discounted_price  product_rating            Brand  \\\n",
              "8896           999               499             4.0     Luca Fashion   \n",
              "8897           499               399             4.0        Shoetopia   \n",
              "8898           999               499             5.0    SMART TRADERS   \n",
              "8899          1299              1299             3.0            Beanz   \n",
              "8900          3195               699             3.6             Nova   \n",
              "8901          2980              1490             3.0           Sinina   \n",
              "8902          2600              1300             1.0  Aarushi Fashion   \n",
              "8903         39992             24995             1.0   Ambika Lahenga   \n",
              "8904          2000              1000             3.0           Sinina   \n",
              "8905          2800              1350             4.0  Aarushi Fashion   \n",
              "\n",
              "                                 product_specifications  \\\n",
              "8896  {\"product_specification\"=>[{\"key\"=>\"Occasion\",...   \n",
              "8897  {\"product_specification\"=>[{\"key\"=>\"Ideal For\"...   \n",
              "8898  {\"product_specification\"=>[{\"key\"=>\"Ideal For\"...   \n",
              "8899  {\"product_specification\"=>[{\"key\"=>\"Occasion\",...   \n",
              "8900  {\"product_specification\"=>[{\"key\"=>\"Brand\", \"v...   \n",
              "8901  {\"product_specification\"=>[{\"key\"=>\"Fabric\", \"...   \n",
              "8902  {\"product_specification\"=>[{\"key\"=>\"Fabric\", \"...   \n",
              "8903  {\"product_specification\"=>[{\"key\"=>\"Fabric\", \"...   \n",
              "8904  {\"product_specification\"=>[{\"key\"=>\"Fabric\", \"...   \n",
              "8905  {\"product_specification\"=>[{\"key\"=>\"Fabric\", \"...   \n",
              "\n",
              "                                            description  \n",
              "8896  Key Features of Luca Fashion Girls Heels Occas...  \n",
              "8897  Key Features of Shoetopia Girls Sandals Flats ...  \n",
              "8898  Key Features of SMART TRADERS Girls Sandals Oc...  \n",
              "8899  Key Features of Beanz Girls Flats Occasion: Ca...  \n",
              "8900  Specifications of Nova KT 728S Electric Kettle...  \n",
              "8901  Key Features of Sinina Chanderi Embroidered Sa...  \n",
              "8902  Key Features of Aarushi Fashion Chanderi Embro...  \n",
              "8903  Key Features of Ambika Lahenga Embroidered Leh...  \n",
              "8904  Key Features of Sinina Chanderi Embroidered Sa...  \n",
              "8905  Key Features of Aarushi Fashion Silk Striped S...  "
            ],
            "text/html": [
              "\n",
              "  <div id=\"df-4b1d22aa-27b2-4175-a69d-48a16d67c52a\">\n",
              "    <div class=\"colab-df-container\">\n",
              "      <div>\n",
              "<style scoped>\n",
              "    .dataframe tbody tr th:only-of-type {\n",
              "        vertical-align: middle;\n",
              "    }\n",
              "\n",
              "    .dataframe tbody tr th {\n",
              "        vertical-align: top;\n",
              "    }\n",
              "\n",
              "    .dataframe thead th {\n",
              "        text-align: right;\n",
              "    }\n",
              "</style>\n",
              "<table border=\"1\" class=\"dataframe\">\n",
              "  <thead>\n",
              "    <tr style=\"text-align: right;\">\n",
              "      <th></th>\n",
              "      <th>Customer_uniq_id</th>\n",
              "      <th>Region</th>\n",
              "      <th>Order_Date</th>\n",
              "      <th>Expected_Delivery_Date</th>\n",
              "      <th>Delivered_Date</th>\n",
              "      <th>product_name</th>\n",
              "      <th>product_main_category</th>\n",
              "      <th>product_subcategory</th>\n",
              "      <th>product_category_filter</th>\n",
              "      <th>product_category_subfilter</th>\n",
              "      <th>product_unique ID</th>\n",
              "      <th>retail_price</th>\n",
              "      <th>discounted_price</th>\n",
              "      <th>product_rating</th>\n",
              "      <th>Brand</th>\n",
              "      <th>product_specifications</th>\n",
              "      <th>description</th>\n",
              "    </tr>\n",
              "  </thead>\n",
              "  <tbody>\n",
              "    <tr>\n",
              "      <th>8896</th>\n",
              "      <td>4db03bc4ccbe216cf151b2f2b904ba3f</td>\n",
              "      <td>East</td>\n",
              "      <td>01-12-2020</td>\n",
              "      <td>04-12-2020</td>\n",
              "      <td>04-12-2020</td>\n",
              "      <td>Luca Fashion Girls Heels</td>\n",
              "      <td>Footwear</td>\n",
              "      <td>Kids' &amp; Infant Footwear</td>\n",
              "      <td>For Girls</td>\n",
              "      <td>Sandals</td>\n",
              "      <td>SNDEHG3DNVBFGAT5</td>\n",
              "      <td>999</td>\n",
              "      <td>499</td>\n",
              "      <td>4.0</td>\n",
              "      <td>Luca Fashion</td>\n",
              "      <td>{\"product_specification\"=&gt;[{\"key\"=&gt;\"Occasion\",...</td>\n",
              "      <td>Key Features of Luca Fashion Girls Heels Occas...</td>\n",
              "    </tr>\n",
              "    <tr>\n",
              "      <th>8897</th>\n",
              "      <td>4d4d6aeb13fa253499d0dd45a5abd87e</td>\n",
              "      <td>West</td>\n",
              "      <td>01-12-2020</td>\n",
              "      <td>04-12-2020</td>\n",
              "      <td>04-12-2020</td>\n",
              "      <td>Shoetopia Girls Sandals</td>\n",
              "      <td>Footwear</td>\n",
              "      <td>Kids' &amp; Infant Footwear</td>\n",
              "      <td>For Girls</td>\n",
              "      <td>Sandals</td>\n",
              "      <td>SNDEG7DRWSX8HFXZ</td>\n",
              "      <td>499</td>\n",
              "      <td>399</td>\n",
              "      <td>4.0</td>\n",
              "      <td>Shoetopia</td>\n",
              "      <td>{\"product_specification\"=&gt;[{\"key\"=&gt;\"Ideal For\"...</td>\n",
              "      <td>Key Features of Shoetopia Girls Sandals Flats ...</td>\n",
              "    </tr>\n",
              "    <tr>\n",
              "      <th>8898</th>\n",
              "      <td>ea19e7ef703293d3f6c799ca9db4642d</td>\n",
              "      <td>West</td>\n",
              "      <td>01-12-2020</td>\n",
              "      <td>04-12-2020</td>\n",
              "      <td>04-12-2020</td>\n",
              "      <td>SMART TRADERS Girls Sandals</td>\n",
              "      <td>Footwear</td>\n",
              "      <td>Kids' &amp; Infant Footwear</td>\n",
              "      <td>For Girls</td>\n",
              "      <td>Sandals</td>\n",
              "      <td>SNDEG7MZHHKZ58D2</td>\n",
              "      <td>999</td>\n",
              "      <td>499</td>\n",
              "      <td>5.0</td>\n",
              "      <td>SMART TRADERS</td>\n",
              "      <td>{\"product_specification\"=&gt;[{\"key\"=&gt;\"Ideal For\"...</td>\n",
              "      <td>Key Features of SMART TRADERS Girls Sandals Oc...</td>\n",
              "    </tr>\n",
              "    <tr>\n",
              "      <th>8899</th>\n",
              "      <td>19a53a958992fb575acffb5d41e7ef9e</td>\n",
              "      <td>East</td>\n",
              "      <td>01-12-2020</td>\n",
              "      <td>04-12-2020</td>\n",
              "      <td>04-12-2020</td>\n",
              "      <td>Beanz Girls Flats</td>\n",
              "      <td>Footwear</td>\n",
              "      <td>Kids' &amp; Infant Footwear</td>\n",
              "      <td>For Girls</td>\n",
              "      <td>Sandals</td>\n",
              "      <td>SNDEG7DYVFWHZBC4</td>\n",
              "      <td>1299</td>\n",
              "      <td>1299</td>\n",
              "      <td>3.0</td>\n",
              "      <td>Beanz</td>\n",
              "      <td>{\"product_specification\"=&gt;[{\"key\"=&gt;\"Occasion\",...</td>\n",
              "      <td>Key Features of Beanz Girls Flats Occasion: Ca...</td>\n",
              "    </tr>\n",
              "    <tr>\n",
              "      <th>8900</th>\n",
              "      <td>09abab80c8dfdc6f268e0a6f05a0be11</td>\n",
              "      <td>North</td>\n",
              "      <td>01-12-2020</td>\n",
              "      <td>04-12-2020</td>\n",
              "      <td>04-12-2020</td>\n",
              "      <td>Nova KT 728S Electric Kettle</td>\n",
              "      <td>Home &amp; Kitchen</td>\n",
              "      <td>Kitchen Appliances</td>\n",
              "      <td>Electric Jug(heater)/Travel Kettles</td>\n",
              "      <td>Nova Electric Jug(heater)/Travel Kettles</td>\n",
              "      <td>EKTDG5C5QSADZZ8J</td>\n",
              "      <td>3195</td>\n",
              "      <td>699</td>\n",
              "      <td>3.6</td>\n",
              "      <td>Nova</td>\n",
              "      <td>{\"product_specification\"=&gt;[{\"key\"=&gt;\"Brand\", \"v...</td>\n",
              "      <td>Specifications of Nova KT 728S Electric Kettle...</td>\n",
              "    </tr>\n",
              "    <tr>\n",
              "      <th>8901</th>\n",
              "      <td>90d30478255e23621e8929ed15c2f6e4</td>\n",
              "      <td>South</td>\n",
              "      <td>01-12-2020</td>\n",
              "      <td>04-12-2020</td>\n",
              "      <td>04-12-2020</td>\n",
              "      <td>Sinina Chanderi Embroidered Salwar Suit Dupatt...</td>\n",
              "      <td>Clothing</td>\n",
              "      <td>Women's Clothing</td>\n",
              "      <td>Ethnic Wear</td>\n",
              "      <td>Fabric</td>\n",
              "      <td>FABEGGHHDFMY8BZU</td>\n",
              "      <td>2980</td>\n",
              "      <td>1490</td>\n",
              "      <td>3.0</td>\n",
              "      <td>Sinina</td>\n",
              "      <td>{\"product_specification\"=&gt;[{\"key\"=&gt;\"Fabric\", \"...</td>\n",
              "      <td>Key Features of Sinina Chanderi Embroidered Sa...</td>\n",
              "    </tr>\n",
              "    <tr>\n",
              "      <th>8902</th>\n",
              "      <td>20a73e3f41490a73ceeba5f17658db8f</td>\n",
              "      <td>West</td>\n",
              "      <td>01-12-2020</td>\n",
              "      <td>04-12-2020</td>\n",
              "      <td>04-12-2020</td>\n",
              "      <td>Aarushi Fashion Chanderi Embroidered Salwar Su...</td>\n",
              "      <td>Clothing</td>\n",
              "      <td>Women's Clothing</td>\n",
              "      <td>Ethnic Wear</td>\n",
              "      <td>Fabric</td>\n",
              "      <td>FABEG8GFDUWRSNU3</td>\n",
              "      <td>2600</td>\n",
              "      <td>1300</td>\n",
              "      <td>1.0</td>\n",
              "      <td>Aarushi Fashion</td>\n",
              "      <td>{\"product_specification\"=&gt;[{\"key\"=&gt;\"Fabric\", \"...</td>\n",
              "      <td>Key Features of Aarushi Fashion Chanderi Embro...</td>\n",
              "    </tr>\n",
              "    <tr>\n",
              "      <th>8903</th>\n",
              "      <td>5c1554cd45f9d538c2c6947dbdd59c75</td>\n",
              "      <td>East</td>\n",
              "      <td>01-12-2020</td>\n",
              "      <td>04-12-2020</td>\n",
              "      <td>04-12-2020</td>\n",
              "      <td>Ambika Lahenga Embroidered Lehenga, Choli and ...</td>\n",
              "      <td>Clothing</td>\n",
              "      <td>Women's Clothing</td>\n",
              "      <td>Ethnic Wear</td>\n",
              "      <td>Lehenga Cholis</td>\n",
              "      <td>LEHEGGEHYN4G2RPW</td>\n",
              "      <td>39992</td>\n",
              "      <td>24995</td>\n",
              "      <td>1.0</td>\n",
              "      <td>Ambika Lahenga</td>\n",
              "      <td>{\"product_specification\"=&gt;[{\"key\"=&gt;\"Fabric\", \"...</td>\n",
              "      <td>Key Features of Ambika Lahenga Embroidered Leh...</td>\n",
              "    </tr>\n",
              "    <tr>\n",
              "      <th>8904</th>\n",
              "      <td>6b737a4deca1ed0e56c179e66036e994</td>\n",
              "      <td>West</td>\n",
              "      <td>01-12-2020</td>\n",
              "      <td>04-12-2020</td>\n",
              "      <td>04-12-2020</td>\n",
              "      <td>Sinina Chanderi Embroidered Salwar Suit Dupatt...</td>\n",
              "      <td>Clothing</td>\n",
              "      <td>Women's Clothing</td>\n",
              "      <td>Ethnic Wear</td>\n",
              "      <td>Fabric</td>\n",
              "      <td>FABEGGHHGSVCHGFV</td>\n",
              "      <td>2000</td>\n",
              "      <td>1000</td>\n",
              "      <td>3.0</td>\n",
              "      <td>Sinina</td>\n",
              "      <td>{\"product_specification\"=&gt;[{\"key\"=&gt;\"Fabric\", \"...</td>\n",
              "      <td>Key Features of Sinina Chanderi Embroidered Sa...</td>\n",
              "    </tr>\n",
              "    <tr>\n",
              "      <th>8905</th>\n",
              "      <td>a5235ac28d3d5487f54025f9d6b57433</td>\n",
              "      <td>North</td>\n",
              "      <td>01-12-2020</td>\n",
              "      <td>04-12-2020</td>\n",
              "      <td>04-12-2020</td>\n",
              "      <td>Aarushi Fashion Silk Striped Salwar Suit Dupat...</td>\n",
              "      <td>Clothing</td>\n",
              "      <td>Women's Clothing</td>\n",
              "      <td>Ethnic Wear</td>\n",
              "      <td>Fabric</td>\n",
              "      <td>FABEG8GYDAABECZH</td>\n",
              "      <td>2800</td>\n",
              "      <td>1350</td>\n",
              "      <td>4.0</td>\n",
              "      <td>Aarushi Fashion</td>\n",
              "      <td>{\"product_specification\"=&gt;[{\"key\"=&gt;\"Fabric\", \"...</td>\n",
              "      <td>Key Features of Aarushi Fashion Silk Striped S...</td>\n",
              "    </tr>\n",
              "  </tbody>\n",
              "</table>\n",
              "</div>\n",
              "      <button class=\"colab-df-convert\" onclick=\"convertToInteractive('df-4b1d22aa-27b2-4175-a69d-48a16d67c52a')\"\n",
              "              title=\"Convert this dataframe to an interactive table.\"\n",
              "              style=\"display:none;\">\n",
              "        \n",
              "  <svg xmlns=\"http://www.w3.org/2000/svg\" height=\"24px\"viewBox=\"0 0 24 24\"\n",
              "       width=\"24px\">\n",
              "    <path d=\"M0 0h24v24H0V0z\" fill=\"none\"/>\n",
              "    <path d=\"M18.56 5.44l.94 2.06.94-2.06 2.06-.94-2.06-.94-.94-2.06-.94 2.06-2.06.94zm-11 1L8.5 8.5l.94-2.06 2.06-.94-2.06-.94L8.5 2.5l-.94 2.06-2.06.94zm10 10l.94 2.06.94-2.06 2.06-.94-2.06-.94-.94-2.06-.94 2.06-2.06.94z\"/><path d=\"M17.41 7.96l-1.37-1.37c-.4-.4-.92-.59-1.43-.59-.52 0-1.04.2-1.43.59L10.3 9.45l-7.72 7.72c-.78.78-.78 2.05 0 2.83L4 21.41c.39.39.9.59 1.41.59.51 0 1.02-.2 1.41-.59l7.78-7.78 2.81-2.81c.8-.78.8-2.07 0-2.86zM5.41 20L4 18.59l7.72-7.72 1.47 1.35L5.41 20z\"/>\n",
              "  </svg>\n",
              "      </button>\n",
              "      \n",
              "  <style>\n",
              "    .colab-df-container {\n",
              "      display:flex;\n",
              "      flex-wrap:wrap;\n",
              "      gap: 12px;\n",
              "    }\n",
              "\n",
              "    .colab-df-convert {\n",
              "      background-color: #E8F0FE;\n",
              "      border: none;\n",
              "      border-radius: 50%;\n",
              "      cursor: pointer;\n",
              "      display: none;\n",
              "      fill: #1967D2;\n",
              "      height: 32px;\n",
              "      padding: 0 0 0 0;\n",
              "      width: 32px;\n",
              "    }\n",
              "\n",
              "    .colab-df-convert:hover {\n",
              "      background-color: #E2EBFA;\n",
              "      box-shadow: 0px 1px 2px rgba(60, 64, 67, 0.3), 0px 1px 3px 1px rgba(60, 64, 67, 0.15);\n",
              "      fill: #174EA6;\n",
              "    }\n",
              "\n",
              "    [theme=dark] .colab-df-convert {\n",
              "      background-color: #3B4455;\n",
              "      fill: #D2E3FC;\n",
              "    }\n",
              "\n",
              "    [theme=dark] .colab-df-convert:hover {\n",
              "      background-color: #434B5C;\n",
              "      box-shadow: 0px 1px 3px 1px rgba(0, 0, 0, 0.15);\n",
              "      filter: drop-shadow(0px 1px 2px rgba(0, 0, 0, 0.3));\n",
              "      fill: #FFFFFF;\n",
              "    }\n",
              "  </style>\n",
              "\n",
              "      <script>\n",
              "        const buttonEl =\n",
              "          document.querySelector('#df-4b1d22aa-27b2-4175-a69d-48a16d67c52a button.colab-df-convert');\n",
              "        buttonEl.style.display =\n",
              "          google.colab.kernel.accessAllowed ? 'block' : 'none';\n",
              "\n",
              "        async function convertToInteractive(key) {\n",
              "          const element = document.querySelector('#df-4b1d22aa-27b2-4175-a69d-48a16d67c52a');\n",
              "          const dataTable =\n",
              "            await google.colab.kernel.invokeFunction('convertToInteractive',\n",
              "                                                     [key], {});\n",
              "          if (!dataTable) return;\n",
              "\n",
              "          const docLinkHtml = 'Like what you see? Visit the ' +\n",
              "            '<a target=\"_blank\" href=https://colab.research.google.com/notebooks/data_table.ipynb>data table notebook</a>'\n",
              "            + ' to learn more about interactive tables.';\n",
              "          element.innerHTML = '';\n",
              "          dataTable['output_type'] = 'display_data';\n",
              "          await google.colab.output.renderOutput(dataTable, element);\n",
              "          const docLink = document.createElement('div');\n",
              "          docLink.innerHTML = docLinkHtml;\n",
              "          element.appendChild(docLink);\n",
              "        }\n",
              "      </script>\n",
              "    </div>\n",
              "  </div>\n",
              "  "
            ]
          },
          "metadata": {},
          "execution_count": 9
        }
      ]
    },
    {
      "cell_type": "markdown",
      "id": "48baeda6",
      "metadata": {
        "id": "48baeda6"
      },
      "source": [
        "#### Ans 1 b) How many rows and columns are present in the dataset? Use any two different methods to extract this information"
      ]
    },
    {
      "cell_type": "markdown",
      "source": [
        "###### Below are 2 methods"
      ],
      "metadata": {
        "id": "9yGAb0vluUlq"
      },
      "id": "9yGAb0vluUlq"
    },
    {
      "cell_type": "code",
      "execution_count": null,
      "id": "0ac3ef5d",
      "metadata": {
        "colab": {
          "base_uri": "https://localhost:8080/"
        },
        "id": "0ac3ef5d",
        "outputId": "ef1efe68-1494-45ec-fad3-a405f6720708"
      },
      "outputs": [
        {
          "output_type": "execute_result",
          "data": {
            "text/plain": [
              "(8906, 17)"
            ]
          },
          "metadata": {},
          "execution_count": 10
        }
      ],
      "source": [
        "df.shape"
      ]
    },
    {
      "cell_type": "markdown",
      "source": [
        "\n",
        "\n",
        "*   There are 8906 rows and 17 columns in this dataset.\n",
        "\n"
      ],
      "metadata": {
        "id": "NeXtmCV1t5dE"
      },
      "id": "NeXtmCV1t5dE"
    },
    {
      "cell_type": "code",
      "source": [
        "print('Rows : ',len(df.index))\n",
        "print('Columns : ',len(df.columns))"
      ],
      "metadata": {
        "colab": {
          "base_uri": "https://localhost:8080/"
        },
        "id": "55IqTAcyCYp3",
        "outputId": "128a8b9f-0634-4fac-e09a-c186d1e7cca7"
      },
      "id": "55IqTAcyCYp3",
      "execution_count": null,
      "outputs": [
        {
          "output_type": "stream",
          "name": "stdout",
          "text": [
            "Rows :  8906\n",
            "Columns :  17\n"
          ]
        }
      ]
    },
    {
      "cell_type": "markdown",
      "id": "6aaa54a0",
      "metadata": {
        "id": "6aaa54a0"
      },
      "source": [
        "#### Ans  1 c) How many object data types are there?"
      ]
    },
    {
      "cell_type": "code",
      "source": [
        "df.info()"
      ],
      "metadata": {
        "colab": {
          "base_uri": "https://localhost:8080/"
        },
        "id": "By-bmS9MuyKk",
        "outputId": "65ab1b32-9943-4103-f90b-155fb289fc51"
      },
      "id": "By-bmS9MuyKk",
      "execution_count": null,
      "outputs": [
        {
          "output_type": "stream",
          "name": "stdout",
          "text": [
            "<class 'pandas.core.frame.DataFrame'>\n",
            "RangeIndex: 8906 entries, 0 to 8905\n",
            "Data columns (total 17 columns):\n",
            " #   Column                      Non-Null Count  Dtype  \n",
            "---  ------                      --------------  -----  \n",
            " 0   Customer_uniq_id            8906 non-null   object \n",
            " 1   Region                      8906 non-null   object \n",
            " 2   Order_Date                  8906 non-null   object \n",
            " 3   Expected_Delivery_Date      8906 non-null   object \n",
            " 4   Delivered_Date              8906 non-null   object \n",
            " 5   product_name                8906 non-null   object \n",
            " 6   product_main_category       8906 non-null   object \n",
            " 7   product_subcategory         8906 non-null   object \n",
            " 8   product_category_filter     8906 non-null   object \n",
            " 9   product_category_subfilter  8906 non-null   object \n",
            " 10  product_unique ID           8906 non-null   object \n",
            " 11  retail_price                8906 non-null   int64  \n",
            " 12  discounted_price            8906 non-null   int64  \n",
            " 13  product_rating              8906 non-null   float64\n",
            " 14  Brand                       8906 non-null   object \n",
            " 15  product_specifications      8906 non-null   object \n",
            " 16  description                 8906 non-null   object \n",
            "dtypes: float64(1), int64(2), object(14)\n",
            "memory usage: 1.2+ MB\n"
          ]
        }
      ]
    },
    {
      "cell_type": "markdown",
      "source": [
        "\n",
        "\n",
        "*   As mentioned , there are 14 object data types\n",
        "\n"
      ],
      "metadata": {
        "id": "xASjSaGGvVI5"
      },
      "id": "xASjSaGGvVI5"
    },
    {
      "cell_type": "markdown",
      "id": "5e63573c",
      "metadata": {
        "id": "5e63573c"
      },
      "source": [
        "### Ans 1 d) Is there any Boolean data type? \n",
        "##### Ans- NO"
      ]
    },
    {
      "cell_type": "markdown",
      "source": [
        "###### from above mentioned information there is no boolean data type"
      ],
      "metadata": {
        "id": "pr9B1gKGvlds"
      },
      "id": "pr9B1gKGvlds"
    },
    {
      "cell_type": "markdown",
      "id": "cc5d76f1",
      "metadata": {
        "id": "cc5d76f1"
      },
      "source": [
        "<font color='blue'>\n",
        "    <font size = 5>\n",
        " Once you are familiar with the data, you may decide that not all features are of use to you and you may want to delete the non-informative features (columns)</font>"
      ]
    },
    {
      "cell_type": "markdown",
      "id": "90db65ce",
      "metadata": {
        "id": "90db65ce"
      },
      "source": [
        "## Q 2.\tEliminating the non-informative columns.\n",
        "## a)\tDrop the columns product_specifications and description. (2 marks) \n",
        "## b)\tWhich method or function is used to permanently delete the columns mentioned in part (a)? Write the code explicitly (2 marks)\n",
        "### Note: Use the markdown feature of Python to explain your answer.\n"
      ]
    },
    {
      "cell_type": "markdown",
      "id": "e0e7e762",
      "metadata": {
        "id": "e0e7e762"
      },
      "source": [
        "### Ans 2 a)  Drop the columns product_specifications and description"
      ]
    },
    {
      "cell_type": "code",
      "execution_count": null,
      "id": "35ad0821",
      "metadata": {
        "colab": {
          "base_uri": "https://localhost:8080/",
          "height": 1000
        },
        "id": "35ad0821",
        "outputId": "c976fe03-3ac3-4d62-d8ef-2c694fbb5999"
      },
      "outputs": [
        {
          "output_type": "execute_result",
          "data": {
            "text/plain": [
              "                      Customer_uniq_id Region  Order_Date  \\\n",
              "0     e71017e224688489edfe856f2308806d  East   24-10-2021   \n",
              "1     6286847ee2da18f587503db49511c539  East   24-10-2021   \n",
              "2     0686fec9b70e5039583a38119ca0c835   West  24-10-2021   \n",
              "3     ea2406dc597bee2abb6b867fa668501f   West  24-10-2021   \n",
              "4     5935ed077915347dc695744df68c565c  East   03-09-2021   \n",
              "...                                ...    ...         ...   \n",
              "8901  90d30478255e23621e8929ed15c2f6e4  South  01-12-2020   \n",
              "8902  20a73e3f41490a73ceeba5f17658db8f   West  01-12-2020   \n",
              "8903  5c1554cd45f9d538c2c6947dbdd59c75  East   01-12-2020   \n",
              "8904  6b737a4deca1ed0e56c179e66036e994   West  01-12-2020   \n",
              "8905  a5235ac28d3d5487f54025f9d6b57433  North  01-12-2020   \n",
              "\n",
              "     Expected_Delivery_Date Delivered_Date  \\\n",
              "0                25-10-2021     25-10-2021   \n",
              "1                25-10-2021     25-10-2021   \n",
              "2                25-10-2021     25-10-2021   \n",
              "3                25-10-2021     25-10-2021   \n",
              "4                04-09-2021     04-09-2021   \n",
              "...                     ...            ...   \n",
              "8901             04-12-2020     04-12-2020   \n",
              "8902             04-12-2020     04-12-2020   \n",
              "8903             04-12-2020     04-12-2020   \n",
              "8904             04-12-2020     04-12-2020   \n",
              "8905             04-12-2020     04-12-2020   \n",
              "\n",
              "                                           product_name product_main_category  \\\n",
              "0     Indcrown Net Embroidered Semi-stitched Lehenga...             Clothing    \n",
              "1         Shopmania Music Band A5 Notebook Spiral Bound    Pens & Stationery    \n",
              "2         Shopmania Music Band A5 Notebook Spiral Bound    Pens & Stationery    \n",
              "3     Tiara Diaries 2016-2017 Designer LA Kaarta \"TA...    Pens & Stationery    \n",
              "4                   KAJCI Embroidered Women's Waistcoat             Clothing    \n",
              "...                                                 ...                   ...   \n",
              "8901  Sinina Chanderi Embroidered Salwar Suit Dupatt...             Clothing    \n",
              "8902  Aarushi Fashion Chanderi Embroidered Salwar Su...             Clothing    \n",
              "8903  Ambika Lahenga Embroidered Lehenga, Choli and ...             Clothing    \n",
              "8904  Sinina Chanderi Embroidered Salwar Suit Dupatt...             Clothing    \n",
              "8905  Aarushi Fashion Silk Striped Salwar Suit Dupat...             Clothing    \n",
              "\n",
              "        product_subcategory product_category_filter  \\\n",
              "0         Women's Clothing             Ethnic Wear    \n",
              "1      Diaries & Notebooks               Notebooks    \n",
              "2      Diaries & Notebooks               Notebooks    \n",
              "3      Diaries & Notebooks               Notebooks    \n",
              "4         Women's Clothing             Formal Wear    \n",
              "...                     ...                     ...   \n",
              "8901      Women's Clothing             Ethnic Wear    \n",
              "8902      Women's Clothing             Ethnic Wear    \n",
              "8903      Women's Clothing             Ethnic Wear    \n",
              "8904      Women's Clothing             Ethnic Wear    \n",
              "8905      Women's Clothing             Ethnic Wear    \n",
              "\n",
              "     product_category_subfilter product_unique ID  retail_price  \\\n",
              "0                       Fabric   FABEJX2NHNKCYHKA           999   \n",
              "1                     Designer   DIAEJ6Z8BEDTGGYY           499   \n",
              "2                     Designer   DIAEJ6Z8KQFWDEGH           499   \n",
              "3                     Designer   DIAEJ8FGHZ3K86JU          1000   \n",
              "4                   Waistcoats   WSCEG2FYDYFDSVZ6          1200   \n",
              "...                         ...               ...           ...   \n",
              "8901                    Fabric   FABEGGHHDFMY8BZU          2980   \n",
              "8902                    Fabric   FABEG8GFDUWRSNU3          2600   \n",
              "8903            Lehenga Cholis   LEHEGGEHYN4G2RPW         39992   \n",
              "8904                    Fabric   FABEGGHHGSVCHGFV          2000   \n",
              "8905                    Fabric   FABEG8GYDAABECZH          2800   \n",
              "\n",
              "      discounted_price  product_rating            Brand  \n",
              "0                  699             4.0         Indcrown  \n",
              "1                  275             1.0        Shopmania  \n",
              "2                  275             2.0        Shopmania  \n",
              "3                  837             3.0    Tiara Diaries  \n",
              "4                  699             5.0            KAJCI  \n",
              "...                ...             ...              ...  \n",
              "8901              1490             3.0           Sinina  \n",
              "8902              1300             1.0  Aarushi Fashion  \n",
              "8903             24995             1.0   Ambika Lahenga  \n",
              "8904              1000             3.0           Sinina  \n",
              "8905              1350             4.0  Aarushi Fashion  \n",
              "\n",
              "[8906 rows x 15 columns]"
            ],
            "text/html": [
              "\n",
              "  <div id=\"df-59e37b3c-23c6-467b-adf2-05b59b3d6da7\">\n",
              "    <div class=\"colab-df-container\">\n",
              "      <div>\n",
              "<style scoped>\n",
              "    .dataframe tbody tr th:only-of-type {\n",
              "        vertical-align: middle;\n",
              "    }\n",
              "\n",
              "    .dataframe tbody tr th {\n",
              "        vertical-align: top;\n",
              "    }\n",
              "\n",
              "    .dataframe thead th {\n",
              "        text-align: right;\n",
              "    }\n",
              "</style>\n",
              "<table border=\"1\" class=\"dataframe\">\n",
              "  <thead>\n",
              "    <tr style=\"text-align: right;\">\n",
              "      <th></th>\n",
              "      <th>Customer_uniq_id</th>\n",
              "      <th>Region</th>\n",
              "      <th>Order_Date</th>\n",
              "      <th>Expected_Delivery_Date</th>\n",
              "      <th>Delivered_Date</th>\n",
              "      <th>product_name</th>\n",
              "      <th>product_main_category</th>\n",
              "      <th>product_subcategory</th>\n",
              "      <th>product_category_filter</th>\n",
              "      <th>product_category_subfilter</th>\n",
              "      <th>product_unique ID</th>\n",
              "      <th>retail_price</th>\n",
              "      <th>discounted_price</th>\n",
              "      <th>product_rating</th>\n",
              "      <th>Brand</th>\n",
              "    </tr>\n",
              "  </thead>\n",
              "  <tbody>\n",
              "    <tr>\n",
              "      <th>0</th>\n",
              "      <td>e71017e224688489edfe856f2308806d</td>\n",
              "      <td>East</td>\n",
              "      <td>24-10-2021</td>\n",
              "      <td>25-10-2021</td>\n",
              "      <td>25-10-2021</td>\n",
              "      <td>Indcrown Net Embroidered Semi-stitched Lehenga...</td>\n",
              "      <td>Clothing</td>\n",
              "      <td>Women's Clothing</td>\n",
              "      <td>Ethnic Wear</td>\n",
              "      <td>Fabric</td>\n",
              "      <td>FABEJX2NHNKCYHKA</td>\n",
              "      <td>999</td>\n",
              "      <td>699</td>\n",
              "      <td>4.0</td>\n",
              "      <td>Indcrown</td>\n",
              "    </tr>\n",
              "    <tr>\n",
              "      <th>1</th>\n",
              "      <td>6286847ee2da18f587503db49511c539</td>\n",
              "      <td>East</td>\n",
              "      <td>24-10-2021</td>\n",
              "      <td>25-10-2021</td>\n",
              "      <td>25-10-2021</td>\n",
              "      <td>Shopmania Music Band A5 Notebook Spiral Bound</td>\n",
              "      <td>Pens &amp; Stationery</td>\n",
              "      <td>Diaries &amp; Notebooks</td>\n",
              "      <td>Notebooks</td>\n",
              "      <td>Designer</td>\n",
              "      <td>DIAEJ6Z8BEDTGGYY</td>\n",
              "      <td>499</td>\n",
              "      <td>275</td>\n",
              "      <td>1.0</td>\n",
              "      <td>Shopmania</td>\n",
              "    </tr>\n",
              "    <tr>\n",
              "      <th>2</th>\n",
              "      <td>0686fec9b70e5039583a38119ca0c835</td>\n",
              "      <td>West</td>\n",
              "      <td>24-10-2021</td>\n",
              "      <td>25-10-2021</td>\n",
              "      <td>25-10-2021</td>\n",
              "      <td>Shopmania Music Band A5 Notebook Spiral Bound</td>\n",
              "      <td>Pens &amp; Stationery</td>\n",
              "      <td>Diaries &amp; Notebooks</td>\n",
              "      <td>Notebooks</td>\n",
              "      <td>Designer</td>\n",
              "      <td>DIAEJ6Z8KQFWDEGH</td>\n",
              "      <td>499</td>\n",
              "      <td>275</td>\n",
              "      <td>2.0</td>\n",
              "      <td>Shopmania</td>\n",
              "    </tr>\n",
              "    <tr>\n",
              "      <th>3</th>\n",
              "      <td>ea2406dc597bee2abb6b867fa668501f</td>\n",
              "      <td>West</td>\n",
              "      <td>24-10-2021</td>\n",
              "      <td>25-10-2021</td>\n",
              "      <td>25-10-2021</td>\n",
              "      <td>Tiara Diaries 2016-2017 Designer LA Kaarta \"TA...</td>\n",
              "      <td>Pens &amp; Stationery</td>\n",
              "      <td>Diaries &amp; Notebooks</td>\n",
              "      <td>Notebooks</td>\n",
              "      <td>Designer</td>\n",
              "      <td>DIAEJ8FGHZ3K86JU</td>\n",
              "      <td>1000</td>\n",
              "      <td>837</td>\n",
              "      <td>3.0</td>\n",
              "      <td>Tiara Diaries</td>\n",
              "    </tr>\n",
              "    <tr>\n",
              "      <th>4</th>\n",
              "      <td>5935ed077915347dc695744df68c565c</td>\n",
              "      <td>East</td>\n",
              "      <td>03-09-2021</td>\n",
              "      <td>04-09-2021</td>\n",
              "      <td>04-09-2021</td>\n",
              "      <td>KAJCI Embroidered Women's Waistcoat</td>\n",
              "      <td>Clothing</td>\n",
              "      <td>Women's Clothing</td>\n",
              "      <td>Formal Wear</td>\n",
              "      <td>Waistcoats</td>\n",
              "      <td>WSCEG2FYDYFDSVZ6</td>\n",
              "      <td>1200</td>\n",
              "      <td>699</td>\n",
              "      <td>5.0</td>\n",
              "      <td>KAJCI</td>\n",
              "    </tr>\n",
              "    <tr>\n",
              "      <th>...</th>\n",
              "      <td>...</td>\n",
              "      <td>...</td>\n",
              "      <td>...</td>\n",
              "      <td>...</td>\n",
              "      <td>...</td>\n",
              "      <td>...</td>\n",
              "      <td>...</td>\n",
              "      <td>...</td>\n",
              "      <td>...</td>\n",
              "      <td>...</td>\n",
              "      <td>...</td>\n",
              "      <td>...</td>\n",
              "      <td>...</td>\n",
              "      <td>...</td>\n",
              "      <td>...</td>\n",
              "    </tr>\n",
              "    <tr>\n",
              "      <th>8901</th>\n",
              "      <td>90d30478255e23621e8929ed15c2f6e4</td>\n",
              "      <td>South</td>\n",
              "      <td>01-12-2020</td>\n",
              "      <td>04-12-2020</td>\n",
              "      <td>04-12-2020</td>\n",
              "      <td>Sinina Chanderi Embroidered Salwar Suit Dupatt...</td>\n",
              "      <td>Clothing</td>\n",
              "      <td>Women's Clothing</td>\n",
              "      <td>Ethnic Wear</td>\n",
              "      <td>Fabric</td>\n",
              "      <td>FABEGGHHDFMY8BZU</td>\n",
              "      <td>2980</td>\n",
              "      <td>1490</td>\n",
              "      <td>3.0</td>\n",
              "      <td>Sinina</td>\n",
              "    </tr>\n",
              "    <tr>\n",
              "      <th>8902</th>\n",
              "      <td>20a73e3f41490a73ceeba5f17658db8f</td>\n",
              "      <td>West</td>\n",
              "      <td>01-12-2020</td>\n",
              "      <td>04-12-2020</td>\n",
              "      <td>04-12-2020</td>\n",
              "      <td>Aarushi Fashion Chanderi Embroidered Salwar Su...</td>\n",
              "      <td>Clothing</td>\n",
              "      <td>Women's Clothing</td>\n",
              "      <td>Ethnic Wear</td>\n",
              "      <td>Fabric</td>\n",
              "      <td>FABEG8GFDUWRSNU3</td>\n",
              "      <td>2600</td>\n",
              "      <td>1300</td>\n",
              "      <td>1.0</td>\n",
              "      <td>Aarushi Fashion</td>\n",
              "    </tr>\n",
              "    <tr>\n",
              "      <th>8903</th>\n",
              "      <td>5c1554cd45f9d538c2c6947dbdd59c75</td>\n",
              "      <td>East</td>\n",
              "      <td>01-12-2020</td>\n",
              "      <td>04-12-2020</td>\n",
              "      <td>04-12-2020</td>\n",
              "      <td>Ambika Lahenga Embroidered Lehenga, Choli and ...</td>\n",
              "      <td>Clothing</td>\n",
              "      <td>Women's Clothing</td>\n",
              "      <td>Ethnic Wear</td>\n",
              "      <td>Lehenga Cholis</td>\n",
              "      <td>LEHEGGEHYN4G2RPW</td>\n",
              "      <td>39992</td>\n",
              "      <td>24995</td>\n",
              "      <td>1.0</td>\n",
              "      <td>Ambika Lahenga</td>\n",
              "    </tr>\n",
              "    <tr>\n",
              "      <th>8904</th>\n",
              "      <td>6b737a4deca1ed0e56c179e66036e994</td>\n",
              "      <td>West</td>\n",
              "      <td>01-12-2020</td>\n",
              "      <td>04-12-2020</td>\n",
              "      <td>04-12-2020</td>\n",
              "      <td>Sinina Chanderi Embroidered Salwar Suit Dupatt...</td>\n",
              "      <td>Clothing</td>\n",
              "      <td>Women's Clothing</td>\n",
              "      <td>Ethnic Wear</td>\n",
              "      <td>Fabric</td>\n",
              "      <td>FABEGGHHGSVCHGFV</td>\n",
              "      <td>2000</td>\n",
              "      <td>1000</td>\n",
              "      <td>3.0</td>\n",
              "      <td>Sinina</td>\n",
              "    </tr>\n",
              "    <tr>\n",
              "      <th>8905</th>\n",
              "      <td>a5235ac28d3d5487f54025f9d6b57433</td>\n",
              "      <td>North</td>\n",
              "      <td>01-12-2020</td>\n",
              "      <td>04-12-2020</td>\n",
              "      <td>04-12-2020</td>\n",
              "      <td>Aarushi Fashion Silk Striped Salwar Suit Dupat...</td>\n",
              "      <td>Clothing</td>\n",
              "      <td>Women's Clothing</td>\n",
              "      <td>Ethnic Wear</td>\n",
              "      <td>Fabric</td>\n",
              "      <td>FABEG8GYDAABECZH</td>\n",
              "      <td>2800</td>\n",
              "      <td>1350</td>\n",
              "      <td>4.0</td>\n",
              "      <td>Aarushi Fashion</td>\n",
              "    </tr>\n",
              "  </tbody>\n",
              "</table>\n",
              "<p>8906 rows × 15 columns</p>\n",
              "</div>\n",
              "      <button class=\"colab-df-convert\" onclick=\"convertToInteractive('df-59e37b3c-23c6-467b-adf2-05b59b3d6da7')\"\n",
              "              title=\"Convert this dataframe to an interactive table.\"\n",
              "              style=\"display:none;\">\n",
              "        \n",
              "  <svg xmlns=\"http://www.w3.org/2000/svg\" height=\"24px\"viewBox=\"0 0 24 24\"\n",
              "       width=\"24px\">\n",
              "    <path d=\"M0 0h24v24H0V0z\" fill=\"none\"/>\n",
              "    <path d=\"M18.56 5.44l.94 2.06.94-2.06 2.06-.94-2.06-.94-.94-2.06-.94 2.06-2.06.94zm-11 1L8.5 8.5l.94-2.06 2.06-.94-2.06-.94L8.5 2.5l-.94 2.06-2.06.94zm10 10l.94 2.06.94-2.06 2.06-.94-2.06-.94-.94-2.06-.94 2.06-2.06.94z\"/><path d=\"M17.41 7.96l-1.37-1.37c-.4-.4-.92-.59-1.43-.59-.52 0-1.04.2-1.43.59L10.3 9.45l-7.72 7.72c-.78.78-.78 2.05 0 2.83L4 21.41c.39.39.9.59 1.41.59.51 0 1.02-.2 1.41-.59l7.78-7.78 2.81-2.81c.8-.78.8-2.07 0-2.86zM5.41 20L4 18.59l7.72-7.72 1.47 1.35L5.41 20z\"/>\n",
              "  </svg>\n",
              "      </button>\n",
              "      \n",
              "  <style>\n",
              "    .colab-df-container {\n",
              "      display:flex;\n",
              "      flex-wrap:wrap;\n",
              "      gap: 12px;\n",
              "    }\n",
              "\n",
              "    .colab-df-convert {\n",
              "      background-color: #E8F0FE;\n",
              "      border: none;\n",
              "      border-radius: 50%;\n",
              "      cursor: pointer;\n",
              "      display: none;\n",
              "      fill: #1967D2;\n",
              "      height: 32px;\n",
              "      padding: 0 0 0 0;\n",
              "      width: 32px;\n",
              "    }\n",
              "\n",
              "    .colab-df-convert:hover {\n",
              "      background-color: #E2EBFA;\n",
              "      box-shadow: 0px 1px 2px rgba(60, 64, 67, 0.3), 0px 1px 3px 1px rgba(60, 64, 67, 0.15);\n",
              "      fill: #174EA6;\n",
              "    }\n",
              "\n",
              "    [theme=dark] .colab-df-convert {\n",
              "      background-color: #3B4455;\n",
              "      fill: #D2E3FC;\n",
              "    }\n",
              "\n",
              "    [theme=dark] .colab-df-convert:hover {\n",
              "      background-color: #434B5C;\n",
              "      box-shadow: 0px 1px 3px 1px rgba(0, 0, 0, 0.15);\n",
              "      filter: drop-shadow(0px 1px 2px rgba(0, 0, 0, 0.3));\n",
              "      fill: #FFFFFF;\n",
              "    }\n",
              "  </style>\n",
              "\n",
              "      <script>\n",
              "        const buttonEl =\n",
              "          document.querySelector('#df-59e37b3c-23c6-467b-adf2-05b59b3d6da7 button.colab-df-convert');\n",
              "        buttonEl.style.display =\n",
              "          google.colab.kernel.accessAllowed ? 'block' : 'none';\n",
              "\n",
              "        async function convertToInteractive(key) {\n",
              "          const element = document.querySelector('#df-59e37b3c-23c6-467b-adf2-05b59b3d6da7');\n",
              "          const dataTable =\n",
              "            await google.colab.kernel.invokeFunction('convertToInteractive',\n",
              "                                                     [key], {});\n",
              "          if (!dataTable) return;\n",
              "\n",
              "          const docLinkHtml = 'Like what you see? Visit the ' +\n",
              "            '<a target=\"_blank\" href=https://colab.research.google.com/notebooks/data_table.ipynb>data table notebook</a>'\n",
              "            + ' to learn more about interactive tables.';\n",
              "          element.innerHTML = '';\n",
              "          dataTable['output_type'] = 'display_data';\n",
              "          await google.colab.output.renderOutput(dataTable, element);\n",
              "          const docLink = document.createElement('div');\n",
              "          docLink.innerHTML = docLinkHtml;\n",
              "          element.appendChild(docLink);\n",
              "        }\n",
              "      </script>\n",
              "    </div>\n",
              "  </div>\n",
              "  "
            ]
          },
          "metadata": {},
          "execution_count": 13
        }
      ],
      "source": [
        "df.drop(['product_specifications','description'],axis=1)"
      ]
    },
    {
      "cell_type": "markdown",
      "id": "e6159f6a",
      "metadata": {
        "id": "e6159f6a"
      },
      "source": [
        "### Ans 2 b)Which method or function is used to permanently delete the columns mentioned in part (a)? Write the code explicitly\n",
        "\n",
        "##### Ans - inplace = True is used to permanently delete the columns mentioned in part (a) , check the code below"
      ]
    },
    {
      "cell_type": "code",
      "execution_count": null,
      "id": "47a63265",
      "metadata": {
        "id": "47a63265"
      },
      "outputs": [],
      "source": [
        "df.drop(['product_specifications','description'],axis=1,inplace=True)"
      ]
    },
    {
      "cell_type": "markdown",
      "id": "cde421e0",
      "metadata": {
        "id": "cde421e0"
      },
      "source": [
        "<font color='blue'>\n",
        "    <font size = 5>\n",
        "        The next steps in this project involves summarization of data at various levels and visualization. Apparently, such simple steps are very useful to get an overall sense of the data.\n",
        "    </font>"
      ]
    },
    {
      "cell_type": "markdown",
      "id": "41c30ad7",
      "metadata": {
        "id": "41c30ad7"
      },
      "source": [
        "## Q 3. Here we summarize the data at Brand level.\n",
        "## a) How many unique Brand are there? (2 marks)\n",
        "## b) Note that each Brand contains multiple products. Show the average product_rating within each Brand (2 marks)\n"
      ]
    },
    {
      "cell_type": "markdown",
      "id": "beb3f83f",
      "metadata": {
        "id": "beb3f83f"
      },
      "source": [
        "### Ans 3 a) How many unique Brand are there?"
      ]
    },
    {
      "cell_type": "code",
      "source": [
        "len(df.Brand.unique())"
      ],
      "metadata": {
        "colab": {
          "base_uri": "https://localhost:8080/"
        },
        "id": "GTIcH8vnESAD",
        "outputId": "b5d9f483-1f3b-4ff6-cb94-f3007bb3f2ad"
      },
      "id": "GTIcH8vnESAD",
      "execution_count": null,
      "outputs": [
        {
          "output_type": "execute_result",
          "data": {
            "text/plain": [
              "2571"
            ]
          },
          "metadata": {},
          "execution_count": 15
        }
      ]
    },
    {
      "cell_type": "markdown",
      "source": [
        "\n",
        "\n",
        "*   2571 Unique brands are there. \n",
        "\n"
      ],
      "metadata": {
        "id": "DVymjFr5w9WT"
      },
      "id": "DVymjFr5w9WT"
    },
    {
      "cell_type": "markdown",
      "id": "5083d866",
      "metadata": {
        "id": "5083d866"
      },
      "source": [
        "### Ans 3 b) Note that each Brand contains multiple products. Show the average product_rating within each Brand"
      ]
    },
    {
      "cell_type": "code",
      "execution_count": null,
      "id": "10018c2c",
      "metadata": {
        "id": "10018c2c"
      },
      "outputs": [],
      "source": [
        "x=df.groupby([\"Brand\"])[\"product_rating\"].mean()"
      ]
    },
    {
      "cell_type": "code",
      "source": [
        "df1= x.to_frame().reset_index()"
      ],
      "metadata": {
        "id": "UkSFjAkex-TM"
      },
      "id": "UkSFjAkex-TM",
      "execution_count": null,
      "outputs": []
    },
    {
      "cell_type": "code",
      "source": [
        "df1.columns=[['Brand','Avg_product_rating']]\n",
        "df1"
      ],
      "metadata": {
        "colab": {
          "base_uri": "https://localhost:8080/",
          "height": 423
        },
        "id": "XdhljDGjyH1v",
        "outputId": "ad584391-b25e-4f88-e964-9c78193fd673"
      },
      "id": "XdhljDGjyH1v",
      "execution_count": null,
      "outputs": [
        {
          "output_type": "execute_result",
          "data": {
            "text/plain": [
              "             Brand Avg_product_rating\n",
              "0             1OAK           1.500000\n",
              "1      3A AUTOCARE           3.268293\n",
              "2           3D Mat           3.000000\n",
              "3        3kFactory           2.000000\n",
              "4               4D           3.600000\n",
              "...            ...                ...\n",
              "2566  youniqueshop           2.000000\n",
              "2567    zDelhi.com           5.000000\n",
              "2568        zaidis           4.000000\n",
              "2569       zasmina           4.500000\n",
              "2570        Tarkan           5.000000\n",
              "\n",
              "[2571 rows x 2 columns]"
            ],
            "text/html": [
              "\n",
              "  <div id=\"df-6fadf2b5-d7bc-4c7a-acec-ac82d6e0e410\">\n",
              "    <div class=\"colab-df-container\">\n",
              "      <div>\n",
              "<style scoped>\n",
              "    .dataframe tbody tr th:only-of-type {\n",
              "        vertical-align: middle;\n",
              "    }\n",
              "\n",
              "    .dataframe tbody tr th {\n",
              "        vertical-align: top;\n",
              "    }\n",
              "\n",
              "    .dataframe thead tr th {\n",
              "        text-align: left;\n",
              "    }\n",
              "</style>\n",
              "<table border=\"1\" class=\"dataframe\">\n",
              "  <thead>\n",
              "    <tr>\n",
              "      <th></th>\n",
              "      <th>Brand</th>\n",
              "      <th>Avg_product_rating</th>\n",
              "    </tr>\n",
              "  </thead>\n",
              "  <tbody>\n",
              "    <tr>\n",
              "      <th>0</th>\n",
              "      <td>1OAK</td>\n",
              "      <td>1.500000</td>\n",
              "    </tr>\n",
              "    <tr>\n",
              "      <th>1</th>\n",
              "      <td>3A AUTOCARE</td>\n",
              "      <td>3.268293</td>\n",
              "    </tr>\n",
              "    <tr>\n",
              "      <th>2</th>\n",
              "      <td>3D Mat</td>\n",
              "      <td>3.000000</td>\n",
              "    </tr>\n",
              "    <tr>\n",
              "      <th>3</th>\n",
              "      <td>3kFactory</td>\n",
              "      <td>2.000000</td>\n",
              "    </tr>\n",
              "    <tr>\n",
              "      <th>4</th>\n",
              "      <td>4D</td>\n",
              "      <td>3.600000</td>\n",
              "    </tr>\n",
              "    <tr>\n",
              "      <th>...</th>\n",
              "      <td>...</td>\n",
              "      <td>...</td>\n",
              "    </tr>\n",
              "    <tr>\n",
              "      <th>2566</th>\n",
              "      <td>youniqueshop</td>\n",
              "      <td>2.000000</td>\n",
              "    </tr>\n",
              "    <tr>\n",
              "      <th>2567</th>\n",
              "      <td>zDelhi.com</td>\n",
              "      <td>5.000000</td>\n",
              "    </tr>\n",
              "    <tr>\n",
              "      <th>2568</th>\n",
              "      <td>zaidis</td>\n",
              "      <td>4.000000</td>\n",
              "    </tr>\n",
              "    <tr>\n",
              "      <th>2569</th>\n",
              "      <td>zasmina</td>\n",
              "      <td>4.500000</td>\n",
              "    </tr>\n",
              "    <tr>\n",
              "      <th>2570</th>\n",
              "      <td>Tarkan</td>\n",
              "      <td>5.000000</td>\n",
              "    </tr>\n",
              "  </tbody>\n",
              "</table>\n",
              "<p>2571 rows × 2 columns</p>\n",
              "</div>\n",
              "      <button class=\"colab-df-convert\" onclick=\"convertToInteractive('df-6fadf2b5-d7bc-4c7a-acec-ac82d6e0e410')\"\n",
              "              title=\"Convert this dataframe to an interactive table.\"\n",
              "              style=\"display:none;\">\n",
              "        \n",
              "  <svg xmlns=\"http://www.w3.org/2000/svg\" height=\"24px\"viewBox=\"0 0 24 24\"\n",
              "       width=\"24px\">\n",
              "    <path d=\"M0 0h24v24H0V0z\" fill=\"none\"/>\n",
              "    <path d=\"M18.56 5.44l.94 2.06.94-2.06 2.06-.94-2.06-.94-.94-2.06-.94 2.06-2.06.94zm-11 1L8.5 8.5l.94-2.06 2.06-.94-2.06-.94L8.5 2.5l-.94 2.06-2.06.94zm10 10l.94 2.06.94-2.06 2.06-.94-2.06-.94-.94-2.06-.94 2.06-2.06.94z\"/><path d=\"M17.41 7.96l-1.37-1.37c-.4-.4-.92-.59-1.43-.59-.52 0-1.04.2-1.43.59L10.3 9.45l-7.72 7.72c-.78.78-.78 2.05 0 2.83L4 21.41c.39.39.9.59 1.41.59.51 0 1.02-.2 1.41-.59l7.78-7.78 2.81-2.81c.8-.78.8-2.07 0-2.86zM5.41 20L4 18.59l7.72-7.72 1.47 1.35L5.41 20z\"/>\n",
              "  </svg>\n",
              "      </button>\n",
              "      \n",
              "  <style>\n",
              "    .colab-df-container {\n",
              "      display:flex;\n",
              "      flex-wrap:wrap;\n",
              "      gap: 12px;\n",
              "    }\n",
              "\n",
              "    .colab-df-convert {\n",
              "      background-color: #E8F0FE;\n",
              "      border: none;\n",
              "      border-radius: 50%;\n",
              "      cursor: pointer;\n",
              "      display: none;\n",
              "      fill: #1967D2;\n",
              "      height: 32px;\n",
              "      padding: 0 0 0 0;\n",
              "      width: 32px;\n",
              "    }\n",
              "\n",
              "    .colab-df-convert:hover {\n",
              "      background-color: #E2EBFA;\n",
              "      box-shadow: 0px 1px 2px rgba(60, 64, 67, 0.3), 0px 1px 3px 1px rgba(60, 64, 67, 0.15);\n",
              "      fill: #174EA6;\n",
              "    }\n",
              "\n",
              "    [theme=dark] .colab-df-convert {\n",
              "      background-color: #3B4455;\n",
              "      fill: #D2E3FC;\n",
              "    }\n",
              "\n",
              "    [theme=dark] .colab-df-convert:hover {\n",
              "      background-color: #434B5C;\n",
              "      box-shadow: 0px 1px 3px 1px rgba(0, 0, 0, 0.15);\n",
              "      filter: drop-shadow(0px 1px 2px rgba(0, 0, 0, 0.3));\n",
              "      fill: #FFFFFF;\n",
              "    }\n",
              "  </style>\n",
              "\n",
              "      <script>\n",
              "        const buttonEl =\n",
              "          document.querySelector('#df-6fadf2b5-d7bc-4c7a-acec-ac82d6e0e410 button.colab-df-convert');\n",
              "        buttonEl.style.display =\n",
              "          google.colab.kernel.accessAllowed ? 'block' : 'none';\n",
              "\n",
              "        async function convertToInteractive(key) {\n",
              "          const element = document.querySelector('#df-6fadf2b5-d7bc-4c7a-acec-ac82d6e0e410');\n",
              "          const dataTable =\n",
              "            await google.colab.kernel.invokeFunction('convertToInteractive',\n",
              "                                                     [key], {});\n",
              "          if (!dataTable) return;\n",
              "\n",
              "          const docLinkHtml = 'Like what you see? Visit the ' +\n",
              "            '<a target=\"_blank\" href=https://colab.research.google.com/notebooks/data_table.ipynb>data table notebook</a>'\n",
              "            + ' to learn more about interactive tables.';\n",
              "          element.innerHTML = '';\n",
              "          dataTable['output_type'] = 'display_data';\n",
              "          await google.colab.output.renderOutput(dataTable, element);\n",
              "          const docLink = document.createElement('div');\n",
              "          docLink.innerHTML = docLinkHtml;\n",
              "          element.appendChild(docLink);\n",
              "        }\n",
              "      </script>\n",
              "    </div>\n",
              "  </div>\n",
              "  "
            ]
          },
          "metadata": {},
          "execution_count": 18
        }
      ]
    },
    {
      "cell_type": "markdown",
      "source": [
        "\n",
        "\n",
        "*   Avgerage product rating for each brand is mentioned in the above dataframe\n",
        "\n"
      ],
      "metadata": {
        "id": "PpS0K8qBygRU"
      },
      "id": "PpS0K8qBygRU"
    },
    {
      "cell_type": "markdown",
      "id": "bbf162af",
      "metadata": {
        "id": "bbf162af"
      },
      "source": [
        "## Q 4. Next we study the main categories of the products.\n",
        "\n",
        "## a) Create an appropriate plot to show the count of items ordered for each product_main_category. (6 marks).\n",
        "\n",
        "### Hint: Create a bar chart titled \"Product Category type\" where product_main_category are on x-axis and counts are on y-axis.\n",
        "\n",
        "### Note: Both axis labels, i.e. the names of the product_main_category and counts must be clearly legible. \n",
        "\n",
        "## b) From the plot identify for which two product_main_category(s)  maximum and minimum orders were placed. (2 marks)\n",
        "\n",
        "## c) Write code to print out the top 5 product_main_category(s)  in descending order? (3 marks"
      ]
    },
    {
      "cell_type": "markdown",
      "source": [
        "### Ans 4 a) Create an appropriate plot to show the count of items ordered for each product_main_category."
      ],
      "metadata": {
        "id": "0m5IBWdIzJrQ"
      },
      "id": "0m5IBWdIzJrQ"
    },
    {
      "cell_type": "code",
      "execution_count": null,
      "id": "5c65c13f",
      "metadata": {
        "colab": {
          "base_uri": "https://localhost:8080/",
          "height": 1000
        },
        "id": "5c65c13f",
        "outputId": "4ecd6c8f-bafe-46c8-b47b-199abff2f841"
      },
      "outputs": [
        {
          "output_type": "display_data",
          "data": {
            "text/plain": [
              "<Figure size 1440x1440 with 1 Axes>"
            ],
            "image/png": "[encoded data removed]"
          },
          "metadata": {
            "needs_background": "light"
          }
        }
      ],
      "source": [
        "\n",
        "plt.figure(figsize=(20,20))\n",
        "sns.countplot(data=df,x='product_main_category')\n",
        "plt.xticks(rotation=90)\n",
        "plt.title('Product Category Type')\n",
        "plt.xlabel('Product_main_category')\n",
        "plt.ylabel('Count of items')\n",
        "plt.show()\n"
      ]
    },
    {
      "cell_type": "markdown",
      "id": "13a5b355",
      "metadata": {
        "id": "13a5b355"
      },
      "source": [
        "### Ans 4 b) From the plot identify for which two product_main_category(s) maximum and minimum orders were placed"
      ]
    },
    {
      "cell_type": "markdown",
      "source": [
        "\n",
        "\n",
        "*   As we can clearly see from the graph above, **Clothing** has maximim count  of orders and **Wearable Smart Devices** has mimimum count of orders.\n",
        "\n"
      ],
      "metadata": {
        "id": "VQuzsOdE1TtO"
      },
      "id": "VQuzsOdE1TtO"
    },
    {
      "cell_type": "markdown",
      "id": "4ea60c92",
      "metadata": {
        "id": "4ea60c92"
      },
      "source": [
        "### Ans 4 c) Write code to print out the top 5 product_main_category(s) in descending order?"
      ]
    },
    {
      "cell_type": "code",
      "execution_count": null,
      "id": "f60dd2c1",
      "metadata": {
        "colab": {
          "base_uri": "https://localhost:8080/"
        },
        "id": "f60dd2c1",
        "outputId": "cebaaf73-9f52-49cc-cf29-8ea0a2124fef"
      },
      "outputs": [
        {
          "output_type": "execute_result",
          "data": {
            "text/plain": [
              "Clothing                       2943\n",
              "Mobiles & Accessories          1084\n",
              "Automotive                     1001\n",
              "Home Decor & Festive Needs      727\n",
              "Computers                       558\n",
              "Name: product_main_category, dtype: int64"
            ]
          },
          "metadata": {},
          "execution_count": 20
        }
      ],
      "source": [
        "df['product_main_category'].value_counts().head(5)"
      ]
    },
    {
      "cell_type": "markdown",
      "source": [
        "\n",
        "\n",
        "*  These are top 5 categories product_main_category(s)\n",
        "\n"
      ],
      "metadata": {
        "id": "m8kE_EOM19WV"
      },
      "id": "m8kE_EOM19WV"
    },
    {
      "cell_type": "markdown",
      "id": "a9f81605",
      "metadata": {
        "id": "a9f81605"
      },
      "source": [
        "<font color='blue'>\n",
        "    <font size = 5>\n",
        "    In E-commerce, both the retailers (here brands) and the company have to make profit to sustain in the business. \n",
        "    The E-Commerce company has the following rule for computing their own revenue: </font> \n",
        "    \n",
        "####     The company charges  \n",
        "####  (i) 25% on the orders having final price (discounted price) greater than 600\n",
        "\n",
        "#### (ii) 15% on the orders having final price (discounted price) greater than 350 but less than or equal to 600\n",
        "\n",
        "#### (iii) 10% on the orders having final price (discounted price) greater than 100 but less than or equal to 350\n",
        "\n",
        "#### (iv) Otherwise, 5% on the final price (discounted price)    </font> "
      ]
    },
    {
      "cell_type": "markdown",
      "id": "0f255fea",
      "metadata": {
        "id": "0f255fea"
      },
      "source": [
        "## Q 5. Find the Total Revenue generated by the E-Commerce company over all orders placed. (6 marks)\n",
        "\n",
        "#### Hint: Calculate revenue of E-commerce company using the conditions mentioned above and then do the total (sum) of all to get total Revenue. "
      ]
    },
    {
      "cell_type": "markdown",
      "id": "1f6b8028",
      "metadata": {
        "id": "1f6b8028"
      },
      "source": [
        "### Ans 5"
      ]
    },
    {
      "cell_type": "code",
      "execution_count": null,
      "id": "c62d888f",
      "metadata": {
        "id": "c62d888f"
      },
      "outputs": [],
      "source": [
        "a=[]\n",
        "for i in df.discounted_price:\n",
        "  if i>600:\n",
        "    f=0.25*i\n",
        "    a.append(f)\n",
        "  elif i<=600 and i>350:\n",
        "    z=0.15*i\n",
        "    a.append(z)\n",
        "  elif i<=350 and i>100:\n",
        "    d=0.10*i\n",
        "    a.append(d)\n",
        "  else:\n",
        "    r=.05*i\n",
        "    a.append(r)\n",
        "\n",
        "df['revenue']=a"
      ]
    },
    {
      "cell_type": "code",
      "source": [
        "df.revenue.sum()\n"
      ],
      "metadata": {
        "colab": {
          "base_uri": "https://localhost:8080/"
        },
        "id": "XnH9Vg5-QbQY",
        "outputId": "95414d4d-e64a-4e3b-b7ae-61915176cb86"
      },
      "id": "XnH9Vg5-QbQY",
      "execution_count": null,
      "outputs": [
        {
          "output_type": "execute_result",
          "data": {
            "text/plain": [
              "2217486.85"
            ]
          },
          "metadata": {},
          "execution_count": 22
        }
      ]
    },
    {
      "cell_type": "markdown",
      "source": [
        "\n",
        "\n",
        "*   Total Revenue generated by the E-Commerce company over all orders placed is **2217486.85**\n",
        "\n"
      ],
      "metadata": {
        "id": "EWjH6sJ-2102"
      },
      "id": "EWjH6sJ-2102"
    },
    {
      "cell_type": "markdown",
      "id": "9161ca8c",
      "metadata": {
        "id": "9161ca8c"
      },
      "source": [
        "<font color='blue'>\n",
        "    <font size = 5>\n",
        "    Now you need to find the revenue for each retailer (Brand)\n",
        "    </font>"
      ]
    },
    {
      "cell_type": "markdown",
      "id": "73dd23c3",
      "metadata": {
        "id": "73dd23c3"
      },
      "source": [
        "## Q6.Calculate the total BrandRevenue and list the top 10 Brand having maximum revenue in descending order (6 marks)\n",
        "#### Hint: Total BrandRevenue is BrandRevenue which is generated after all the deductions. Also, BrandRevenue is different from the E-Commerce company's revenue.\n",
        "#### Brand Revenue is the discounted price minus the Revenue (generated using the conditions given above Q5)\n"
      ]
    },
    {
      "cell_type": "markdown",
      "id": "3514fa79",
      "metadata": {
        "id": "3514fa79"
      },
      "source": [
        "### Ans 6"
      ]
    },
    {
      "cell_type": "code",
      "source": [
        "df['brand_revenue']=df['discounted_price']- df['revenue']"
      ],
      "metadata": {
        "id": "uFdgqJJsR6A6"
      },
      "id": "uFdgqJJsR6A6",
      "execution_count": null,
      "outputs": []
    },
    {
      "cell_type": "markdown",
      "source": [
        "\n",
        "\n",
        "*   We are making another column with the name of brand_revenue, which is (Discounted_price - Revenue of E-commerce companies).\n",
        "\n"
      ],
      "metadata": {
        "id": "20lUav5T3eEb"
      },
      "id": "20lUav5T3eEb"
    },
    {
      "cell_type": "code",
      "execution_count": null,
      "id": "437c69b5",
      "metadata": {
        "colab": {
          "base_uri": "https://localhost:8080/"
        },
        "id": "437c69b5",
        "outputId": "866ea452-cf9d-457b-8ac6-3ce625127932"
      },
      "outputs": [
        {
          "output_type": "execute_result",
          "data": {
            "text/plain": [
              "Brand\n",
              "Allure Auto     498464.25\n",
              "GAGA            237390.00\n",
              "Slim            212062.60\n",
              "DailyObjects    181980.00\n",
              "Diviniti        143115.00\n",
              "Regular         126112.35\n",
              "Enthopia        123146.25\n",
              "TheLostPuppy    116595.35\n",
              "Asus             99241.50\n",
              "Springwel        88978.50\n",
              "Name: brand_revenue, dtype: float64"
            ]
          },
          "metadata": {},
          "execution_count": 24
        }
      ],
      "source": [
        "df.groupby([\"Brand\"])[\"brand_revenue\"].sum().sort_values(ascending=False).head(10)"
      ]
    },
    {
      "cell_type": "markdown",
      "source": [
        "\n",
        "\n",
        "*   These are the Top 10 most revenue generating brands. \n",
        "\n"
      ],
      "metadata": {
        "id": "GeUKz7o14Cd-"
      },
      "id": "GeUKz7o14Cd-"
    },
    {
      "cell_type": "markdown",
      "id": "2a2bbd83",
      "metadata": {
        "id": "2a2bbd83"
      },
      "source": [
        "<font color='blue'>\n",
        "    <font size = 5>\n",
        "Let us now investigate multiple features for each product to determine any pattern.\n",
        "</font>"
      ]
    },
    {
      "cell_type": "markdown",
      "id": "1aa1834b",
      "metadata": {
        "id": "1aa1834b"
      },
      "source": [
        "## Q 7. Compare prices for each product.\n",
        "\n",
        "## a)\tDraw boxplots of retail_price & discounted_price. (3 marks)\n",
        "\n",
        "## b)\t Are there any outliers? (Yes/No) (1mark)\n",
        "\n",
        "## c)\tCreate a scatterplot of retail_price (x-axis) and discounted_price (y-axis) (3 marks)\n"
      ]
    },
    {
      "cell_type": "markdown",
      "source": [],
      "metadata": {
        "id": "E5fHKu7Dfsno"
      },
      "id": "E5fHKu7Dfsno"
    },
    {
      "cell_type": "markdown",
      "id": "d5aae861",
      "metadata": {
        "id": "d5aae861"
      },
      "source": [
        "### Ans 7 a) Draw boxplots of retail_price & discounted_price."
      ]
    },
    {
      "cell_type": "code",
      "execution_count": null,
      "id": "510fd4d0",
      "metadata": {
        "colab": {
          "base_uri": "https://localhost:8080/",
          "height": 347
        },
        "id": "510fd4d0",
        "outputId": "fde8e90a-fbcc-46fb-f7c0-0d50010272d0"
      },
      "outputs": [
        {
          "output_type": "display_data",
          "data": {
            "text/plain": [
              "<Figure size 1800x360 with 1 Axes>"
            ],
            "image/png": "[encoded data removed]"
          },
          "metadata": {
            "needs_background": "light"
          }
        }
      ],
      "source": [
        "plt.figure(figsize=(25,5))\n",
        "\n",
        "sns.boxplot(data=df,x='retail_price',color='Green')\n",
        "plt.title('Retail Price Distribution')\n",
        "plt.xlabel('Retail_ Price')\n",
        "plt.show()"
      ]
    },
    {
      "cell_type": "code",
      "source": [
        "plt.figure(figsize=(25,5))\n",
        "sns.boxplot(data=df,x='discounted_price',color='Green')\n",
        "plt.title('Discounted Price Distribution')\n",
        "plt.xlabel('Discounted_price')\n",
        "plt.show()"
      ],
      "metadata": {
        "colab": {
          "base_uri": "https://localhost:8080/",
          "height": 347
        },
        "id": "arrlN7PeWvey",
        "outputId": "682dd420-3218-47d3-de0d-fcef7a5d46f9"
      },
      "id": "arrlN7PeWvey",
      "execution_count": null,
      "outputs": [
        {
          "output_type": "display_data",
          "data": {
            "text/plain": [
              "<Figure size 1800x360 with 1 Axes>"
            ],
            "image/png": "[encoded data removed]"
          },
          "metadata": {
            "needs_background": "light"
          }
        }
      ]
    },
    {
      "cell_type": "markdown",
      "id": "78b92e7c",
      "metadata": {
        "id": "78b92e7c"
      },
      "source": [
        "### Ans 7 b) Are there any outliers?\n"
      ]
    },
    {
      "cell_type": "markdown",
      "source": [
        "###### Yes"
      ],
      "metadata": {
        "id": "tvLPdlV6fne4"
      },
      "id": "tvLPdlV6fne4"
    },
    {
      "cell_type": "markdown",
      "id": "0389c9b8",
      "metadata": {
        "id": "0389c9b8"
      },
      "source": [
        "### Ans 7 c) \tCreate a scatterplot of retail_price (x-axis) and discounted_price (y-axis) "
      ]
    },
    {
      "cell_type": "code",
      "source": [
        "plt.figure(figsize=(15,5))\n",
        "sns.scatterplot(data=df,x='retail_price',y='discounted_price',color='Green')\n",
        "plt.show()"
      ],
      "metadata": {
        "colab": {
          "base_uri": "https://localhost:8080/",
          "height": 335
        },
        "id": "iGGYvqDWWteX",
        "outputId": "b115339e-1dbb-4215-c445-93e68e97d511"
      },
      "id": "iGGYvqDWWteX",
      "execution_count": null,
      "outputs": [
        {
          "output_type": "display_data",
          "data": {
            "text/plain": [
              "<Figure size 1080x360 with 1 Axes>"
            ],
            "image/png": "[encoded data removed]"
          },
          "metadata": {
            "needs_background": "light"
          }
        }
      ]
    },
    {
      "cell_type": "code",
      "execution_count": null,
      "id": "0af7c034",
      "metadata": {
        "id": "0af7c034"
      },
      "outputs": [],
      "source": []
    },
    {
      "cell_type": "code",
      "execution_count": null,
      "id": "d8c44be9",
      "metadata": {
        "id": "d8c44be9"
      },
      "outputs": [],
      "source": []
    },
    {
      "cell_type": "markdown",
      "id": "3bc47f55",
      "metadata": {
        "id": "3bc47f55"
      },
      "source": [
        "<font color='blue'>\n",
        "    <font size = 5>\n",
        "    The next steps will enable to study brand-level information.\n",
        "    </font>"
      ]
    },
    {
      "cell_type": "markdown",
      "id": "b9bd00f7",
      "metadata": {
        "id": "b9bd00f7"
      },
      "source": [
        "## Q 8. Create a new dataframe to include the Brand specific information as stated:\n",
        "## i.\ttotal number of orders placed per Brand\n",
        "## ii.\ttotal retail_price per Brand\n",
        "## iii.\ttotal discounted_price per Brand, and \n",
        "## iv.\ttotal BrandRevenue generated per Brand. \n",
        "\n",
        "## Also, draw a pairplot using these four features. (6 marks)\n"
      ]
    },
    {
      "cell_type": "markdown",
      "id": "8f83cea9",
      "metadata": {
        "id": "8f83cea9"
      },
      "source": [
        "### Ans 8"
      ]
    },
    {
      "cell_type": "markdown",
      "source": [
        "1.Total number of orders placed per Brand"
      ],
      "metadata": {
        "id": "NHXoFMlSil1r"
      },
      "id": "NHXoFMlSil1r"
    },
    {
      "cell_type": "code",
      "execution_count": null,
      "id": "ae749847",
      "metadata": {
        "colab": {
          "base_uri": "https://localhost:8080/"
        },
        "id": "ae749847",
        "outputId": "3f840e5a-d466-43a1-b2c6-216dce6729e3"
      },
      "outputs": [
        {
          "output_type": "execute_result",
          "data": {
            "text/plain": [
              "Brand\n",
              "1OAK             2\n",
              "3A AUTOCARE     41\n",
              "3D Mat           1\n",
              "3kFactory        1\n",
              "4D               5\n",
              "                ..\n",
              "youniqueshop     1\n",
              "zDelhi.com       1\n",
              "zaidis           1\n",
              "zasmina          2\n",
              " Tarkan          1\n",
              "Name: Brand, Length: 2571, dtype: int64"
            ]
          },
          "metadata": {},
          "execution_count": 28
        }
      ],
      "source": [
        "No_of_orders=df.groupby(['Brand'])['Brand'].count()\n",
        "No_of_orders\n"
      ]
    },
    {
      "cell_type": "markdown",
      "source": [
        "2.   total retail_price per Brand"
      ],
      "metadata": {
        "id": "Ng3xJan_i8Wc"
      },
      "id": "Ng3xJan_i8Wc"
    },
    {
      "cell_type": "code",
      "source": [
        "retail_price_per_Brand=df.groupby(['Brand'])['retail_price'].sum()\n",
        "retail_price_per_Brand"
      ],
      "metadata": {
        "colab": {
          "base_uri": "https://localhost:8080/"
        },
        "id": "rB3hPvKLizXf",
        "outputId": "41ff1f6a-c487-4336-a57a-4a21e2c59c38"
      },
      "id": "rB3hPvKLizXf",
      "execution_count": null,
      "outputs": [
        {
          "output_type": "execute_result",
          "data": {
            "text/plain": [
              "Brand\n",
              "1OAK              1698\n",
              "3A AUTOCARE     107059\n",
              "3D Mat            7250\n",
              "3kFactory          399\n",
              "4D               17500\n",
              "                 ...  \n",
              "youniqueshop       810\n",
              "zDelhi.com        4499\n",
              "zaidis             150\n",
              "zasmina           1400\n",
              " Tarkan           1999\n",
              "Name: retail_price, Length: 2571, dtype: int64"
            ]
          },
          "metadata": {},
          "execution_count": 29
        }
      ]
    },
    {
      "cell_type": "markdown",
      "source": [
        "3. Total discounted_price per Brand"
      ],
      "metadata": {
        "id": "raI4lfyhjRUL"
      },
      "id": "raI4lfyhjRUL"
    },
    {
      "cell_type": "code",
      "source": [
        "discounted_price_per_Brand=df.groupby(['Brand'])['discounted_price'].sum()\n",
        "discounted_price_per_Brand"
      ],
      "metadata": {
        "colab": {
          "base_uri": "https://localhost:8080/"
        },
        "id": "SEzs3IrNjnzY",
        "outputId": "68af8f64-9d2b-4f1e-ca70-55b25dd641b8"
      },
      "id": "SEzs3IrNjnzY",
      "execution_count": null,
      "outputs": [
        {
          "output_type": "execute_result",
          "data": {
            "text/plain": [
              "Brand\n",
              "1OAK             1274\n",
              "3A AUTOCARE     74134\n",
              "3D Mat           6999\n",
              "3kFactory         174\n",
              "4D               7948\n",
              "                ...  \n",
              "youniqueshop      640\n",
              "zDelhi.com       3999\n",
              "zaidis            129\n",
              "zasmina           639\n",
              " Tarkan           349\n",
              "Name: discounted_price, Length: 2571, dtype: int64"
            ]
          },
          "metadata": {},
          "execution_count": 30
        }
      ]
    },
    {
      "cell_type": "markdown",
      "source": [
        "4. Total BrandRevenue generated per Brand"
      ],
      "metadata": {
        "id": "BdbMSyLgjWCv"
      },
      "id": "BdbMSyLgjWCv"
    },
    {
      "cell_type": "code",
      "source": [
        "brandrevenue_per_Brand=df.groupby(['Brand'])['brand_revenue'].sum()\n",
        "brandrevenue_per_Brand"
      ],
      "metadata": {
        "colab": {
          "base_uri": "https://localhost:8080/"
        },
        "id": "mZTcjvM9jyBM",
        "outputId": "42788d1a-dee9-4393-a67f-aa3d422661de"
      },
      "id": "mZTcjvM9jyBM",
      "execution_count": null,
      "outputs": [
        {
          "output_type": "execute_result",
          "data": {
            "text/plain": [
              "Brand\n",
              "1OAK             1015.40\n",
              "3A AUTOCARE     55647.90\n",
              "3D Mat           5249.25\n",
              "3kFactory         156.60\n",
              "4D               5961.00\n",
              "                  ...   \n",
              "youniqueshop      480.00\n",
              "zDelhi.com       2999.25\n",
              "zaidis            116.10\n",
              "zasmina           575.10\n",
              " Tarkan           314.10\n",
              "Name: brand_revenue, Length: 2571, dtype: float64"
            ]
          },
          "metadata": {},
          "execution_count": 31
        }
      ]
    },
    {
      "cell_type": "code",
      "source": [
        "df1=pd.concat([No_of_orders,brandrevenue_per_Brand,discounted_price_per_Brand,retail_price_per_Brand],axis=1) # concating these 4 series datatypes to a dataframe using pd.concat"
      ],
      "metadata": {
        "id": "Xl_XBPWyiy6V"
      },
      "id": "Xl_XBPWyiy6V",
      "execution_count": null,
      "outputs": []
    },
    {
      "cell_type": "code",
      "source": [
        "df1.columns = ['No_of_orders/Brand', 'brandrevenue/Brand', 'discounted_price/Brand', 'retail_price/Brand'] # canging the column names according to requirement"
      ],
      "metadata": {
        "id": "32BjvTO0tq9O"
      },
      "id": "32BjvTO0tq9O",
      "execution_count": null,
      "outputs": []
    },
    {
      "cell_type": "code",
      "source": [
        "df2=df1.reset_index() # resetting the index\n",
        "df2"
      ],
      "metadata": {
        "colab": {
          "base_uri": "https://localhost:8080/",
          "height": 423
        },
        "id": "S3TeZ-AWt3XV",
        "outputId": "90eef574-c753-44ae-930f-0fcb3f9dea06"
      },
      "id": "S3TeZ-AWt3XV",
      "execution_count": null,
      "outputs": [
        {
          "output_type": "execute_result",
          "data": {
            "text/plain": [
              "             Brand  No_of_orders/Brand  brandrevenue/Brand  \\\n",
              "0             1OAK                   2             1015.40   \n",
              "1      3A AUTOCARE                  41            55647.90   \n",
              "2           3D Mat                   1             5249.25   \n",
              "3        3kFactory                   1              156.60   \n",
              "4               4D                   5             5961.00   \n",
              "...            ...                 ...                 ...   \n",
              "2566  youniqueshop                   1              480.00   \n",
              "2567    zDelhi.com                   1             2999.25   \n",
              "2568        zaidis                   1              116.10   \n",
              "2569       zasmina                   2              575.10   \n",
              "2570        Tarkan                   1              314.10   \n",
              "\n",
              "      discounted_price/Brand  retail_price/Brand  \n",
              "0                       1274                1698  \n",
              "1                      74134              107059  \n",
              "2                       6999                7250  \n",
              "3                        174                 399  \n",
              "4                       7948               17500  \n",
              "...                      ...                 ...  \n",
              "2566                     640                 810  \n",
              "2567                    3999                4499  \n",
              "2568                     129                 150  \n",
              "2569                     639                1400  \n",
              "2570                     349                1999  \n",
              "\n",
              "[2571 rows x 5 columns]"
            ],
            "text/html": [
              "\n",
              "  <div id=\"df-a01cc5a8-50bb-421a-bfa5-2c3eae1b260f\">\n",
              "    <div class=\"colab-df-container\">\n",
              "      <div>\n",
              "<style scoped>\n",
              "    .dataframe tbody tr th:only-of-type {\n",
              "        vertical-align: middle;\n",
              "    }\n",
              "\n",
              "    .dataframe tbody tr th {\n",
              "        vertical-align: top;\n",
              "    }\n",
              "\n",
              "    .dataframe thead th {\n",
              "        text-align: right;\n",
              "    }\n",
              "</style>\n",
              "<table border=\"1\" class=\"dataframe\">\n",
              "  <thead>\n",
              "    <tr style=\"text-align: right;\">\n",
              "      <th></th>\n",
              "      <th>Brand</th>\n",
              "      <th>No_of_orders/Brand</th>\n",
              "      <th>brandrevenue/Brand</th>\n",
              "      <th>discounted_price/Brand</th>\n",
              "      <th>retail_price/Brand</th>\n",
              "    </tr>\n",
              "  </thead>\n",
              "  <tbody>\n",
              "    <tr>\n",
              "      <th>0</th>\n",
              "      <td>1OAK</td>\n",
              "      <td>2</td>\n",
              "      <td>1015.40</td>\n",
              "      <td>1274</td>\n",
              "      <td>1698</td>\n",
              "    </tr>\n",
              "    <tr>\n",
              "      <th>1</th>\n",
              "      <td>3A AUTOCARE</td>\n",
              "      <td>41</td>\n",
              "      <td>55647.90</td>\n",
              "      <td>74134</td>\n",
              "      <td>107059</td>\n",
              "    </tr>\n",
              "    <tr>\n",
              "      <th>2</th>\n",
              "      <td>3D Mat</td>\n",
              "      <td>1</td>\n",
              "      <td>5249.25</td>\n",
              "      <td>6999</td>\n",
              "      <td>7250</td>\n",
              "    </tr>\n",
              "    <tr>\n",
              "      <th>3</th>\n",
              "      <td>3kFactory</td>\n",
              "      <td>1</td>\n",
              "      <td>156.60</td>\n",
              "      <td>174</td>\n",
              "      <td>399</td>\n",
              "    </tr>\n",
              "    <tr>\n",
              "      <th>4</th>\n",
              "      <td>4D</td>\n",
              "      <td>5</td>\n",
              "      <td>5961.00</td>\n",
              "      <td>7948</td>\n",
              "      <td>17500</td>\n",
              "    </tr>\n",
              "    <tr>\n",
              "      <th>...</th>\n",
              "      <td>...</td>\n",
              "      <td>...</td>\n",
              "      <td>...</td>\n",
              "      <td>...</td>\n",
              "      <td>...</td>\n",
              "    </tr>\n",
              "    <tr>\n",
              "      <th>2566</th>\n",
              "      <td>youniqueshop</td>\n",
              "      <td>1</td>\n",
              "      <td>480.00</td>\n",
              "      <td>640</td>\n",
              "      <td>810</td>\n",
              "    </tr>\n",
              "    <tr>\n",
              "      <th>2567</th>\n",
              "      <td>zDelhi.com</td>\n",
              "      <td>1</td>\n",
              "      <td>2999.25</td>\n",
              "      <td>3999</td>\n",
              "      <td>4499</td>\n",
              "    </tr>\n",
              "    <tr>\n",
              "      <th>2568</th>\n",
              "      <td>zaidis</td>\n",
              "      <td>1</td>\n",
              "      <td>116.10</td>\n",
              "      <td>129</td>\n",
              "      <td>150</td>\n",
              "    </tr>\n",
              "    <tr>\n",
              "      <th>2569</th>\n",
              "      <td>zasmina</td>\n",
              "      <td>2</td>\n",
              "      <td>575.10</td>\n",
              "      <td>639</td>\n",
              "      <td>1400</td>\n",
              "    </tr>\n",
              "    <tr>\n",
              "      <th>2570</th>\n",
              "      <td>Tarkan</td>\n",
              "      <td>1</td>\n",
              "      <td>314.10</td>\n",
              "      <td>349</td>\n",
              "      <td>1999</td>\n",
              "    </tr>\n",
              "  </tbody>\n",
              "</table>\n",
              "<p>2571 rows × 5 columns</p>\n",
              "</div>\n",
              "      <button class=\"colab-df-convert\" onclick=\"convertToInteractive('df-a01cc5a8-50bb-421a-bfa5-2c3eae1b260f')\"\n",
              "              title=\"Convert this dataframe to an interactive table.\"\n",
              "              style=\"display:none;\">\n",
              "        \n",
              "  <svg xmlns=\"http://www.w3.org/2000/svg\" height=\"24px\"viewBox=\"0 0 24 24\"\n",
              "       width=\"24px\">\n",
              "    <path d=\"M0 0h24v24H0V0z\" fill=\"none\"/>\n",
              "    <path d=\"M18.56 5.44l.94 2.06.94-2.06 2.06-.94-2.06-.94-.94-2.06-.94 2.06-2.06.94zm-11 1L8.5 8.5l.94-2.06 2.06-.94-2.06-.94L8.5 2.5l-.94 2.06-2.06.94zm10 10l.94 2.06.94-2.06 2.06-.94-2.06-.94-.94-2.06-.94 2.06-2.06.94z\"/><path d=\"M17.41 7.96l-1.37-1.37c-.4-.4-.92-.59-1.43-.59-.52 0-1.04.2-1.43.59L10.3 9.45l-7.72 7.72c-.78.78-.78 2.05 0 2.83L4 21.41c.39.39.9.59 1.41.59.51 0 1.02-.2 1.41-.59l7.78-7.78 2.81-2.81c.8-.78.8-2.07 0-2.86zM5.41 20L4 18.59l7.72-7.72 1.47 1.35L5.41 20z\"/>\n",
              "  </svg>\n",
              "      </button>\n",
              "      \n",
              "  <style>\n",
              "    .colab-df-container {\n",
              "      display:flex;\n",
              "      flex-wrap:wrap;\n",
              "      gap: 12px;\n",
              "    }\n",
              "\n",
              "    .colab-df-convert {\n",
              "      background-color: #E8F0FE;\n",
              "      border: none;\n",
              "      border-radius: 50%;\n",
              "      cursor: pointer;\n",
              "      display: none;\n",
              "      fill: #1967D2;\n",
              "      height: 32px;\n",
              "      padding: 0 0 0 0;\n",
              "      width: 32px;\n",
              "    }\n",
              "\n",
              "    .colab-df-convert:hover {\n",
              "      background-color: #E2EBFA;\n",
              "      box-shadow: 0px 1px 2px rgba(60, 64, 67, 0.3), 0px 1px 3px 1px rgba(60, 64, 67, 0.15);\n",
              "      fill: #174EA6;\n",
              "    }\n",
              "\n",
              "    [theme=dark] .colab-df-convert {\n",
              "      background-color: #3B4455;\n",
              "      fill: #D2E3FC;\n",
              "    }\n",
              "\n",
              "    [theme=dark] .colab-df-convert:hover {\n",
              "      background-color: #434B5C;\n",
              "      box-shadow: 0px 1px 3px 1px rgba(0, 0, 0, 0.15);\n",
              "      filter: drop-shadow(0px 1px 2px rgba(0, 0, 0, 0.3));\n",
              "      fill: #FFFFFF;\n",
              "    }\n",
              "  </style>\n",
              "\n",
              "      <script>\n",
              "        const buttonEl =\n",
              "          document.querySelector('#df-a01cc5a8-50bb-421a-bfa5-2c3eae1b260f button.colab-df-convert');\n",
              "        buttonEl.style.display =\n",
              "          google.colab.kernel.accessAllowed ? 'block' : 'none';\n",
              "\n",
              "        async function convertToInteractive(key) {\n",
              "          const element = document.querySelector('#df-a01cc5a8-50bb-421a-bfa5-2c3eae1b260f');\n",
              "          const dataTable =\n",
              "            await google.colab.kernel.invokeFunction('convertToInteractive',\n",
              "                                                     [key], {});\n",
              "          if (!dataTable) return;\n",
              "\n",
              "          const docLinkHtml = 'Like what you see? Visit the ' +\n",
              "            '<a target=\"_blank\" href=https://colab.research.google.com/notebooks/data_table.ipynb>data table notebook</a>'\n",
              "            + ' to learn more about interactive tables.';\n",
              "          element.innerHTML = '';\n",
              "          dataTable['output_type'] = 'display_data';\n",
              "          await google.colab.output.renderOutput(dataTable, element);\n",
              "          const docLink = document.createElement('div');\n",
              "          docLink.innerHTML = docLinkHtml;\n",
              "          element.appendChild(docLink);\n",
              "        }\n",
              "      </script>\n",
              "    </div>\n",
              "  </div>\n",
              "  "
            ]
          },
          "metadata": {},
          "execution_count": 34
        }
      ]
    },
    {
      "cell_type": "code",
      "source": [
        "plt.figure(figsize=(10,5))\n",
        "sns.pairplot(data=df2[['No_of_orders/Brand', 'brandrevenue/Brand', 'discounted_price/Brand', 'retail_price/Brand']])\n",
        "plt.show()"
      ],
      "metadata": {
        "colab": {
          "base_uri": "https://localhost:8080/",
          "height": 744
        },
        "id": "nHQwyW5BuJBz",
        "outputId": "0630e20a-b185-422c-fada-fca6b76e7010"
      },
      "id": "nHQwyW5BuJBz",
      "execution_count": null,
      "outputs": [
        {
          "output_type": "display_data",
          "data": {
            "text/plain": [
              "<Figure size 720x360 with 0 Axes>"
            ]
          },
          "metadata": {}
        },
        {
          "output_type": "display_data",
          "data": {
            "text/plain": [
              "<Figure size 720x720 with 20 Axes>"
            ],
            "image/png": "[encoded data removed]"
          },
          "metadata": {
            "needs_background": "light"
          }
        }
      ]
    },
    {
      "cell_type": "markdown",
      "id": "ecec83f4",
      "metadata": {
        "id": "ecec83f4"
      },
      "source": [
        "<font color='blue'>\n",
        "    <font size = 5>\n",
        "    The E-Commerce company operate in multiple regions. It is important to understand its performance in each region.\n",
        "    </font>"
      ]
    },
    {
      "cell_type": "markdown",
      "id": "dd09b8aa",
      "metadata": {
        "id": "dd09b8aa"
      },
      "source": [
        "## Q 9.Compare performance regionwise\n",
        "\n",
        "## a)\tDraw a lineplot for the monthly Revenue of E-Commerce Company for each region separately.  (4 marks) \n",
        "\n",
        "## b)\tIdentify the best and the worst performing months for each region. (2 marks)\n",
        "\n",
        "#### Note: Only those days with actual orders(Order_Date) placed are present in the dataset. Assuming there were no orders on other days"
      ]
    },
    {
      "cell_type": "markdown",
      "id": "e6d64aea",
      "metadata": {
        "id": "e6d64aea"
      },
      "source": [
        "### Ans 9 a)"
      ]
    },
    {
      "cell_type": "code",
      "execution_count": null,
      "id": "d9a4f534",
      "metadata": {
        "colab": {
          "base_uri": "https://localhost:8080/"
        },
        "id": "d9a4f534",
        "outputId": "ab56b419-1a39-49cf-a87a-815740e74c75"
      },
      "outputs": [
        {
          "output_type": "execute_result",
          "data": {
            "text/plain": [
              "East     3421\n",
              "West     2763\n",
              "North    1771\n",
              "South     951\n",
              "Name: Region, dtype: int64"
            ]
          },
          "metadata": {},
          "execution_count": 36
        }
      ],
      "source": [
        "df.Region.value_counts()"
      ]
    },
    {
      "cell_type": "code",
      "source": [
        "df['Order_Date']  = pd.to_datetime(df['Order_Date'],dayfirst=True)"
      ],
      "metadata": {
        "id": "Cj7IiYaxmbWc"
      },
      "id": "Cj7IiYaxmbWc",
      "execution_count": null,
      "outputs": []
    },
    {
      "cell_type": "code",
      "source": [
        "df['Order_Date'].dt.strftime('%m-%d-%y')"
      ],
      "metadata": {
        "colab": {
          "base_uri": "https://localhost:8080/"
        },
        "id": "2QZtitQsmbTA",
        "outputId": "a66f72e4-c8f1-4ff0-ec78-20ab135918bb"
      },
      "id": "2QZtitQsmbTA",
      "execution_count": null,
      "outputs": [
        {
          "output_type": "execute_result",
          "data": {
            "text/plain": [
              "0       10-24-21\n",
              "1       10-24-21\n",
              "2       10-24-21\n",
              "3       10-24-21\n",
              "4       09-03-21\n",
              "          ...   \n",
              "8901    12-01-20\n",
              "8902    12-01-20\n",
              "8903    12-01-20\n",
              "8904    12-01-20\n",
              "8905    12-01-20\n",
              "Name: Order_Date, Length: 8906, dtype: object"
            ]
          },
          "metadata": {},
          "execution_count": 38
        }
      ]
    },
    {
      "cell_type": "code",
      "source": [
        "df['year']=df['Order_Date'].dt.year\n",
        "df['month']=df['Order_Date'].dt.month\n",
        "df['day']=df['Order_Date'].dt.day"
      ],
      "metadata": {
        "id": "RMShaTkSmbQd"
      },
      "id": "RMShaTkSmbQd",
      "execution_count": null,
      "outputs": []
    },
    {
      "cell_type": "code",
      "source": [
        "south=df[(df['Region'] == 'South')]\n"
      ],
      "metadata": {
        "id": "9O7ZG5ekmbLs"
      },
      "id": "9O7ZG5ekmbLs",
      "execution_count": null,
      "outputs": []
    },
    {
      "cell_type": "code",
      "source": [
        "south1=south.groupby([\"month\"])[\"revenue\"].sum()\n",
        "sou= south1.to_frame().reset_index()\n"
      ],
      "metadata": {
        "id": "LjDUUcIs2t6I"
      },
      "id": "LjDUUcIs2t6I",
      "execution_count": null,
      "outputs": []
    },
    {
      "cell_type": "code",
      "source": [
        "west=df[(df['Region']=='West')]\n"
      ],
      "metadata": {
        "id": "SYMI8wu0mbAo"
      },
      "id": "SYMI8wu0mbAo",
      "execution_count": null,
      "outputs": []
    },
    {
      "cell_type": "code",
      "source": [
        "west1=west.groupby([\"month\"])[\"revenue\"].sum()\n",
        "wes= west1.to_frame().reset_index()\n"
      ],
      "metadata": {
        "id": "mdlsQJRS5Q3Y"
      },
      "id": "mdlsQJRS5Q3Y",
      "execution_count": null,
      "outputs": []
    },
    {
      "cell_type": "code",
      "source": [
        "north=df[(df['Region']=='North')]\n"
      ],
      "metadata": {
        "id": "ieYp0Q7DseFU"
      },
      "id": "ieYp0Q7DseFU",
      "execution_count": null,
      "outputs": []
    },
    {
      "cell_type": "code",
      "source": [
        "north1=north.groupby([\"month\"])[\"revenue\"].sum()\n",
        "nor= north1.to_frame().reset_index()\n"
      ],
      "metadata": {
        "id": "QOVwwpoH5trC"
      },
      "id": "QOVwwpoH5trC",
      "execution_count": null,
      "outputs": []
    },
    {
      "cell_type": "code",
      "source": [
        "east=df[(df['Region']=='East ')]\n"
      ],
      "metadata": {
        "id": "_rIR_bxbssVd"
      },
      "id": "_rIR_bxbssVd",
      "execution_count": null,
      "outputs": []
    },
    {
      "cell_type": "code",
      "source": [
        "east1=east.groupby([\"month\"])[\"revenue\"].sum()\n",
        "eas= east1.to_frame().reset_index()\n"
      ],
      "metadata": {
        "id": "JZhv3r5Cs7RY"
      },
      "id": "JZhv3r5Cs7RY",
      "execution_count": null,
      "outputs": []
    },
    {
      "cell_type": "code",
      "execution_count": null,
      "id": "9f569635",
      "metadata": {
        "id": "9f569635"
      },
      "outputs": [],
      "source": [
        "eas.columns=['month','east_revenue']\n",
        "wes.columns=['month','west_revenue']\n",
        "nor.columns=['month','north_revenue']\n",
        "sou.columns=['month','south_revenue']"
      ]
    },
    {
      "cell_type": "code",
      "source": [
        "rev1=eas.merge(wes,how='outer',on='month')"
      ],
      "metadata": {
        "id": "5SoLkEU-o3By"
      },
      "id": "5SoLkEU-o3By",
      "execution_count": null,
      "outputs": []
    },
    {
      "cell_type": "code",
      "source": [
        "rev2=rev1.merge(nor,how='outer',on='month')"
      ],
      "metadata": {
        "id": "27TPM1WgNaf7"
      },
      "id": "27TPM1WgNaf7",
      "execution_count": null,
      "outputs": []
    },
    {
      "cell_type": "code",
      "source": [
        "rev3=rev2.merge(sou,how='outer',on='month')"
      ],
      "metadata": {
        "id": "0OAbbEx9Nngj"
      },
      "id": "0OAbbEx9Nngj",
      "execution_count": null,
      "outputs": []
    },
    {
      "cell_type": "code",
      "source": [
        "final=rev3.fillna(0)"
      ],
      "metadata": {
        "id": "XFDR9O-TRH-s"
      },
      "id": "XFDR9O-TRH-s",
      "execution_count": null,
      "outputs": []
    },
    {
      "cell_type": "code",
      "source": [
        "final.head(10)"
      ],
      "metadata": {
        "colab": {
          "base_uri": "https://localhost:8080/",
          "height": 363
        },
        "id": "G-6lQnv0SkTP",
        "outputId": "43fbf1f8-3c04-4025-a34e-6c85e70af2a3"
      },
      "id": "G-6lQnv0SkTP",
      "execution_count": null,
      "outputs": [
        {
          "output_type": "execute_result",
          "data": {
            "text/plain": [
              "   month  east_revenue  west_revenue  north_revenue  south_revenue\n",
              "0      1     218740.60     145593.75       96015.10       52815.80\n",
              "1      2      14347.25      15020.90        7137.35        4670.85\n",
              "2      3     124934.10     119632.50       40733.95       61932.15\n",
              "3      4      56293.05      46845.20       29758.35       18550.10\n",
              "4      5      24230.50      18631.85       13106.50        3708.75\n",
              "5      6      54231.60      40579.80       29552.35       19550.75\n",
              "6      7        351.35        537.00         306.00           0.00\n",
              "7      8        824.75        736.75         374.75           0.00\n",
              "8      9        680.15          0.00           0.00           0.00\n",
              "9     10        202.25        236.75           0.00           0.00"
            ],
            "text/html": [
              "\n",
              "  <div id=\"df-3649944e-86fb-48bc-ab03-02d66996588d\">\n",
              "    <div class=\"colab-df-container\">\n",
              "      <div>\n",
              "<style scoped>\n",
              "    .dataframe tbody tr th:only-of-type {\n",
              "        vertical-align: middle;\n",
              "    }\n",
              "\n",
              "    .dataframe tbody tr th {\n",
              "        vertical-align: top;\n",
              "    }\n",
              "\n",
              "    .dataframe thead th {\n",
              "        text-align: right;\n",
              "    }\n",
              "</style>\n",
              "<table border=\"1\" class=\"dataframe\">\n",
              "  <thead>\n",
              "    <tr style=\"text-align: right;\">\n",
              "      <th></th>\n",
              "      <th>month</th>\n",
              "      <th>east_revenue</th>\n",
              "      <th>west_revenue</th>\n",
              "      <th>north_revenue</th>\n",
              "      <th>south_revenue</th>\n",
              "    </tr>\n",
              "  </thead>\n",
              "  <tbody>\n",
              "    <tr>\n",
              "      <th>0</th>\n",
              "      <td>1</td>\n",
              "      <td>218740.60</td>\n",
              "      <td>145593.75</td>\n",
              "      <td>96015.10</td>\n",
              "      <td>52815.80</td>\n",
              "    </tr>\n",
              "    <tr>\n",
              "      <th>1</th>\n",
              "      <td>2</td>\n",
              "      <td>14347.25</td>\n",
              "      <td>15020.90</td>\n",
              "      <td>7137.35</td>\n",
              "      <td>4670.85</td>\n",
              "    </tr>\n",
              "    <tr>\n",
              "      <th>2</th>\n",
              "      <td>3</td>\n",
              "      <td>124934.10</td>\n",
              "      <td>119632.50</td>\n",
              "      <td>40733.95</td>\n",
              "      <td>61932.15</td>\n",
              "    </tr>\n",
              "    <tr>\n",
              "      <th>3</th>\n",
              "      <td>4</td>\n",
              "      <td>56293.05</td>\n",
              "      <td>46845.20</td>\n",
              "      <td>29758.35</td>\n",
              "      <td>18550.10</td>\n",
              "    </tr>\n",
              "    <tr>\n",
              "      <th>4</th>\n",
              "      <td>5</td>\n",
              "      <td>24230.50</td>\n",
              "      <td>18631.85</td>\n",
              "      <td>13106.50</td>\n",
              "      <td>3708.75</td>\n",
              "    </tr>\n",
              "    <tr>\n",
              "      <th>5</th>\n",
              "      <td>6</td>\n",
              "      <td>54231.60</td>\n",
              "      <td>40579.80</td>\n",
              "      <td>29552.35</td>\n",
              "      <td>19550.75</td>\n",
              "    </tr>\n",
              "    <tr>\n",
              "      <th>6</th>\n",
              "      <td>7</td>\n",
              "      <td>351.35</td>\n",
              "      <td>537.00</td>\n",
              "      <td>306.00</td>\n",
              "      <td>0.00</td>\n",
              "    </tr>\n",
              "    <tr>\n",
              "      <th>7</th>\n",
              "      <td>8</td>\n",
              "      <td>824.75</td>\n",
              "      <td>736.75</td>\n",
              "      <td>374.75</td>\n",
              "      <td>0.00</td>\n",
              "    </tr>\n",
              "    <tr>\n",
              "      <th>8</th>\n",
              "      <td>9</td>\n",
              "      <td>680.15</td>\n",
              "      <td>0.00</td>\n",
              "      <td>0.00</td>\n",
              "      <td>0.00</td>\n",
              "    </tr>\n",
              "    <tr>\n",
              "      <th>9</th>\n",
              "      <td>10</td>\n",
              "      <td>202.25</td>\n",
              "      <td>236.75</td>\n",
              "      <td>0.00</td>\n",
              "      <td>0.00</td>\n",
              "    </tr>\n",
              "  </tbody>\n",
              "</table>\n",
              "</div>\n",
              "      <button class=\"colab-df-convert\" onclick=\"convertToInteractive('df-3649944e-86fb-48bc-ab03-02d66996588d')\"\n",
              "              title=\"Convert this dataframe to an interactive table.\"\n",
              "              style=\"display:none;\">\n",
              "        \n",
              "  <svg xmlns=\"http://www.w3.org/2000/svg\" height=\"24px\"viewBox=\"0 0 24 24\"\n",
              "       width=\"24px\">\n",
              "    <path d=\"M0 0h24v24H0V0z\" fill=\"none\"/>\n",
              "    <path d=\"M18.56 5.44l.94 2.06.94-2.06 2.06-.94-2.06-.94-.94-2.06-.94 2.06-2.06.94zm-11 1L8.5 8.5l.94-2.06 2.06-.94-2.06-.94L8.5 2.5l-.94 2.06-2.06.94zm10 10l.94 2.06.94-2.06 2.06-.94-2.06-.94-.94-2.06-.94 2.06-2.06.94z\"/><path d=\"M17.41 7.96l-1.37-1.37c-.4-.4-.92-.59-1.43-.59-.52 0-1.04.2-1.43.59L10.3 9.45l-7.72 7.72c-.78.78-.78 2.05 0 2.83L4 21.41c.39.39.9.59 1.41.59.51 0 1.02-.2 1.41-.59l7.78-7.78 2.81-2.81c.8-.78.8-2.07 0-2.86zM5.41 20L4 18.59l7.72-7.72 1.47 1.35L5.41 20z\"/>\n",
              "  </svg>\n",
              "      </button>\n",
              "      \n",
              "  <style>\n",
              "    .colab-df-container {\n",
              "      display:flex;\n",
              "      flex-wrap:wrap;\n",
              "      gap: 12px;\n",
              "    }\n",
              "\n",
              "    .colab-df-convert {\n",
              "      background-color: #E8F0FE;\n",
              "      border: none;\n",
              "      border-radius: 50%;\n",
              "      cursor: pointer;\n",
              "      display: none;\n",
              "      fill: #1967D2;\n",
              "      height: 32px;\n",
              "      padding: 0 0 0 0;\n",
              "      width: 32px;\n",
              "    }\n",
              "\n",
              "    .colab-df-convert:hover {\n",
              "      background-color: #E2EBFA;\n",
              "      box-shadow: 0px 1px 2px rgba(60, 64, 67, 0.3), 0px 1px 3px 1px rgba(60, 64, 67, 0.15);\n",
              "      fill: #174EA6;\n",
              "    }\n",
              "\n",
              "    [theme=dark] .colab-df-convert {\n",
              "      background-color: #3B4455;\n",
              "      fill: #D2E3FC;\n",
              "    }\n",
              "\n",
              "    [theme=dark] .colab-df-convert:hover {\n",
              "      background-color: #434B5C;\n",
              "      box-shadow: 0px 1px 3px 1px rgba(0, 0, 0, 0.15);\n",
              "      filter: drop-shadow(0px 1px 2px rgba(0, 0, 0, 0.3));\n",
              "      fill: #FFFFFF;\n",
              "    }\n",
              "  </style>\n",
              "\n",
              "      <script>\n",
              "        const buttonEl =\n",
              "          document.querySelector('#df-3649944e-86fb-48bc-ab03-02d66996588d button.colab-df-convert');\n",
              "        buttonEl.style.display =\n",
              "          google.colab.kernel.accessAllowed ? 'block' : 'none';\n",
              "\n",
              "        async function convertToInteractive(key) {\n",
              "          const element = document.querySelector('#df-3649944e-86fb-48bc-ab03-02d66996588d');\n",
              "          const dataTable =\n",
              "            await google.colab.kernel.invokeFunction('convertToInteractive',\n",
              "                                                     [key], {});\n",
              "          if (!dataTable) return;\n",
              "\n",
              "          const docLinkHtml = 'Like what you see? Visit the ' +\n",
              "            '<a target=\"_blank\" href=https://colab.research.google.com/notebooks/data_table.ipynb>data table notebook</a>'\n",
              "            + ' to learn more about interactive tables.';\n",
              "          element.innerHTML = '';\n",
              "          dataTable['output_type'] = 'display_data';\n",
              "          await google.colab.output.renderOutput(dataTable, element);\n",
              "          const docLink = document.createElement('div');\n",
              "          docLink.innerHTML = docLinkHtml;\n",
              "          element.appendChild(docLink);\n",
              "        }\n",
              "      </script>\n",
              "    </div>\n",
              "  </div>\n",
              "  "
            ]
          },
          "metadata": {},
          "execution_count": 53
        }
      ]
    },
    {
      "cell_type": "code",
      "source": [
        "final.tail(4)"
      ],
      "metadata": {
        "colab": {
          "base_uri": "https://localhost:8080/",
          "height": 175
        },
        "id": "1Twe5sbZpkLT",
        "outputId": "0f7d4396-ffd7-4146-e26c-7344ce6fe11c"
      },
      "id": "1Twe5sbZpkLT",
      "execution_count": null,
      "outputs": [
        {
          "output_type": "execute_result",
          "data": {
            "text/plain": [
              "    month  east_revenue  west_revenue  north_revenue  south_revenue\n",
              "7       8        824.75        736.75         374.75           0.00\n",
              "8       9        680.15          0.00           0.00           0.00\n",
              "9      10        202.25        236.75           0.00           0.00\n",
              "10     12     363413.85     302971.95      195149.95       95088.25"
            ],
            "text/html": [
              "\n",
              "  <div id=\"df-127f2e37-5339-472e-b4b7-5fc58166378b\">\n",
              "    <div class=\"colab-df-container\">\n",
              "      <div>\n",
              "<style scoped>\n",
              "    .dataframe tbody tr th:only-of-type {\n",
              "        vertical-align: middle;\n",
              "    }\n",
              "\n",
              "    .dataframe tbody tr th {\n",
              "        vertical-align: top;\n",
              "    }\n",
              "\n",
              "    .dataframe thead th {\n",
              "        text-align: right;\n",
              "    }\n",
              "</style>\n",
              "<table border=\"1\" class=\"dataframe\">\n",
              "  <thead>\n",
              "    <tr style=\"text-align: right;\">\n",
              "      <th></th>\n",
              "      <th>month</th>\n",
              "      <th>east_revenue</th>\n",
              "      <th>west_revenue</th>\n",
              "      <th>north_revenue</th>\n",
              "      <th>south_revenue</th>\n",
              "    </tr>\n",
              "  </thead>\n",
              "  <tbody>\n",
              "    <tr>\n",
              "      <th>7</th>\n",
              "      <td>8</td>\n",
              "      <td>824.75</td>\n",
              "      <td>736.75</td>\n",
              "      <td>374.75</td>\n",
              "      <td>0.00</td>\n",
              "    </tr>\n",
              "    <tr>\n",
              "      <th>8</th>\n",
              "      <td>9</td>\n",
              "      <td>680.15</td>\n",
              "      <td>0.00</td>\n",
              "      <td>0.00</td>\n",
              "      <td>0.00</td>\n",
              "    </tr>\n",
              "    <tr>\n",
              "      <th>9</th>\n",
              "      <td>10</td>\n",
              "      <td>202.25</td>\n",
              "      <td>236.75</td>\n",
              "      <td>0.00</td>\n",
              "      <td>0.00</td>\n",
              "    </tr>\n",
              "    <tr>\n",
              "      <th>10</th>\n",
              "      <td>12</td>\n",
              "      <td>363413.85</td>\n",
              "      <td>302971.95</td>\n",
              "      <td>195149.95</td>\n",
              "      <td>95088.25</td>\n",
              "    </tr>\n",
              "  </tbody>\n",
              "</table>\n",
              "</div>\n",
              "      <button class=\"colab-df-convert\" onclick=\"convertToInteractive('df-127f2e37-5339-472e-b4b7-5fc58166378b')\"\n",
              "              title=\"Convert this dataframe to an interactive table.\"\n",
              "              style=\"display:none;\">\n",
              "        \n",
              "  <svg xmlns=\"http://www.w3.org/2000/svg\" height=\"24px\"viewBox=\"0 0 24 24\"\n",
              "       width=\"24px\">\n",
              "    <path d=\"M0 0h24v24H0V0z\" fill=\"none\"/>\n",
              "    <path d=\"M18.56 5.44l.94 2.06.94-2.06 2.06-.94-2.06-.94-.94-2.06-.94 2.06-2.06.94zm-11 1L8.5 8.5l.94-2.06 2.06-.94-2.06-.94L8.5 2.5l-.94 2.06-2.06.94zm10 10l.94 2.06.94-2.06 2.06-.94-2.06-.94-.94-2.06-.94 2.06-2.06.94z\"/><path d=\"M17.41 7.96l-1.37-1.37c-.4-.4-.92-.59-1.43-.59-.52 0-1.04.2-1.43.59L10.3 9.45l-7.72 7.72c-.78.78-.78 2.05 0 2.83L4 21.41c.39.39.9.59 1.41.59.51 0 1.02-.2 1.41-.59l7.78-7.78 2.81-2.81c.8-.78.8-2.07 0-2.86zM5.41 20L4 18.59l7.72-7.72 1.47 1.35L5.41 20z\"/>\n",
              "  </svg>\n",
              "      </button>\n",
              "      \n",
              "  <style>\n",
              "    .colab-df-container {\n",
              "      display:flex;\n",
              "      flex-wrap:wrap;\n",
              "      gap: 12px;\n",
              "    }\n",
              "\n",
              "    .colab-df-convert {\n",
              "      background-color: #E8F0FE;\n",
              "      border: none;\n",
              "      border-radius: 50%;\n",
              "      cursor: pointer;\n",
              "      display: none;\n",
              "      fill: #1967D2;\n",
              "      height: 32px;\n",
              "      padding: 0 0 0 0;\n",
              "      width: 32px;\n",
              "    }\n",
              "\n",
              "    .colab-df-convert:hover {\n",
              "      background-color: #E2EBFA;\n",
              "      box-shadow: 0px 1px 2px rgba(60, 64, 67, 0.3), 0px 1px 3px 1px rgba(60, 64, 67, 0.15);\n",
              "      fill: #174EA6;\n",
              "    }\n",
              "\n",
              "    [theme=dark] .colab-df-convert {\n",
              "      background-color: #3B4455;\n",
              "      fill: #D2E3FC;\n",
              "    }\n",
              "\n",
              "    [theme=dark] .colab-df-convert:hover {\n",
              "      background-color: #434B5C;\n",
              "      box-shadow: 0px 1px 3px 1px rgba(0, 0, 0, 0.15);\n",
              "      filter: drop-shadow(0px 1px 2px rgba(0, 0, 0, 0.3));\n",
              "      fill: #FFFFFF;\n",
              "    }\n",
              "  </style>\n",
              "\n",
              "      <script>\n",
              "        const buttonEl =\n",
              "          document.querySelector('#df-127f2e37-5339-472e-b4b7-5fc58166378b button.colab-df-convert');\n",
              "        buttonEl.style.display =\n",
              "          google.colab.kernel.accessAllowed ? 'block' : 'none';\n",
              "\n",
              "        async function convertToInteractive(key) {\n",
              "          const element = document.querySelector('#df-127f2e37-5339-472e-b4b7-5fc58166378b');\n",
              "          const dataTable =\n",
              "            await google.colab.kernel.invokeFunction('convertToInteractive',\n",
              "                                                     [key], {});\n",
              "          if (!dataTable) return;\n",
              "\n",
              "          const docLinkHtml = 'Like what you see? Visit the ' +\n",
              "            '<a target=\"_blank\" href=https://colab.research.google.com/notebooks/data_table.ipynb>data table notebook</a>'\n",
              "            + ' to learn more about interactive tables.';\n",
              "          element.innerHTML = '';\n",
              "          dataTable['output_type'] = 'display_data';\n",
              "          await google.colab.output.renderOutput(dataTable, element);\n",
              "          const docLink = document.createElement('div');\n",
              "          docLink.innerHTML = docLinkHtml;\n",
              "          element.appendChild(docLink);\n",
              "        }\n",
              "      </script>\n",
              "    </div>\n",
              "  </div>\n",
              "  "
            ]
          },
          "metadata": {},
          "execution_count": 54
        }
      ]
    },
    {
      "cell_type": "code",
      "source": [
        "plt.figure(figsize=(15,5))\n",
        "sns.lineplot(data = final , x = 'month' , y = 'south_revenue',linewidth=1,marker=\"o\",linestyle='--',color='r')\n",
        "plt.title('Monthly Revenue South')\n",
        "plt.show()"
      ],
      "metadata": {
        "colab": {
          "base_uri": "https://localhost:8080/",
          "height": 350
        },
        "id": "5tqVURWxQjGJ",
        "outputId": "51547612-57c0-48df-8463-f88c8e7654a6"
      },
      "id": "5tqVURWxQjGJ",
      "execution_count": null,
      "outputs": [
        {
          "output_type": "display_data",
          "data": {
            "text/plain": [
              "<Figure size 1080x360 with 1 Axes>"
            ],
            "image/png": "[encoded data removed]"
          },
          "metadata": {
            "needs_background": "light"
          }
        }
      ]
    },
    {
      "cell_type": "code",
      "source": [
        "\n",
        "plt.figure(figsize=(15,5))\n",
        "sns.lineplot(data = final , x = 'month' , y = 'north_revenue',marker='o',linewidth=1,linestyle='--',color='r')\n",
        "plt.title('Monthly Revenue North')\n",
        "plt.show()"
      ],
      "metadata": {
        "colab": {
          "base_uri": "https://localhost:8080/",
          "height": 350
        },
        "id": "5ZSyBpdgQjCv",
        "outputId": "864100ec-321e-4040-c819-c5678da16408"
      },
      "id": "5ZSyBpdgQjCv",
      "execution_count": null,
      "outputs": [
        {
          "output_type": "display_data",
          "data": {
            "text/plain": [
              "<Figure size 1080x360 with 1 Axes>"
            ],
            "image/png": "[encoded data removed]"
          },
          "metadata": {
            "needs_background": "light"
          }
        }
      ]
    },
    {
      "cell_type": "code",
      "source": [
        "plt.figure(figsize=(15,5))\n",
        "sns.lineplot(data = final , x = 'month' , y = 'east_revenue',marker='o',linewidth=1,linestyle='--',color='r')\n",
        "plt.title('Monthly Revenue East')\n",
        "plt.show()"
      ],
      "metadata": {
        "colab": {
          "base_uri": "https://localhost:8080/",
          "height": 350
        },
        "id": "g5NpmKntQjAM",
        "outputId": "820b7319-58a0-45c5-9919-da96146653bd"
      },
      "id": "g5NpmKntQjAM",
      "execution_count": null,
      "outputs": [
        {
          "output_type": "display_data",
          "data": {
            "text/plain": [
              "<Figure size 1080x360 with 1 Axes>"
            ],
            "image/png": "[encoded data removed]"
          },
          "metadata": {
            "needs_background": "light"
          }
        }
      ]
    },
    {
      "cell_type": "code",
      "source": [
        "plt.figure(figsize=(15,5))\n",
        "sns.lineplot(data = final , x = 'month' , y = 'west_revenue',marker='o',linewidth=1,linestyle='--',color='r')\n",
        "plt.title('Monthly Revenue West')\n",
        "plt.show()"
      ],
      "metadata": {
        "colab": {
          "base_uri": "https://localhost:8080/",
          "height": 350
        },
        "id": "rSO6BwC6Qi9i",
        "outputId": "00b81146-b188-4db0-b34d-57d110d0a419"
      },
      "id": "rSO6BwC6Qi9i",
      "execution_count": null,
      "outputs": [
        {
          "output_type": "display_data",
          "data": {
            "text/plain": [
              "<Figure size 1080x360 with 1 Axes>"
            ],
            "image/png": "[encoded data removed]"
          },
          "metadata": {
            "needs_background": "light"
          }
        }
      ]
    },
    {
      "cell_type": "code",
      "source": [
        "final"
      ],
      "metadata": {
        "colab": {
          "base_uri": "https://localhost:8080/",
          "height": 423
        },
        "id": "jloC5YsBag6w",
        "outputId": "34414c19-157c-4e90-c702-26568fca7e1a"
      },
      "id": "jloC5YsBag6w",
      "execution_count": null,
      "outputs": [
        {
          "output_type": "execute_result",
          "data": {
            "text/plain": [
              "    month  east_revenue  west_revenue  north_revenue  south_revenue\n",
              "0       1     218740.60     145593.75       96015.10       52815.80\n",
              "1       2      14347.25      15020.90        7137.35        4670.85\n",
              "2       3     124934.10     119632.50       40733.95       61932.15\n",
              "3       4      56293.05      46845.20       29758.35       18550.10\n",
              "4       5      24230.50      18631.85       13106.50        3708.75\n",
              "..    ...           ...           ...            ...            ...\n",
              "6       7        351.35        537.00         306.00           0.00\n",
              "7       8        824.75        736.75         374.75           0.00\n",
              "8       9        680.15          0.00           0.00           0.00\n",
              "9      10        202.25        236.75           0.00           0.00\n",
              "10     12     363413.85     302971.95      195149.95       95088.25\n",
              "\n",
              "[11 rows x 5 columns]"
            ],
            "text/html": [
              "\n",
              "  <div id=\"df-dbf5195d-1bc0-4fac-8f41-501cc3b0f78c\">\n",
              "    <div class=\"colab-df-container\">\n",
              "      <div>\n",
              "<style scoped>\n",
              "    .dataframe tbody tr th:only-of-type {\n",
              "        vertical-align: middle;\n",
              "    }\n",
              "\n",
              "    .dataframe tbody tr th {\n",
              "        vertical-align: top;\n",
              "    }\n",
              "\n",
              "    .dataframe thead th {\n",
              "        text-align: right;\n",
              "    }\n",
              "</style>\n",
              "<table border=\"1\" class=\"dataframe\">\n",
              "  <thead>\n",
              "    <tr style=\"text-align: right;\">\n",
              "      <th></th>\n",
              "      <th>month</th>\n",
              "      <th>east_revenue</th>\n",
              "      <th>west_revenue</th>\n",
              "      <th>north_revenue</th>\n",
              "      <th>south_revenue</th>\n",
              "    </tr>\n",
              "  </thead>\n",
              "  <tbody>\n",
              "    <tr>\n",
              "      <th>0</th>\n",
              "      <td>1</td>\n",
              "      <td>218740.60</td>\n",
              "      <td>145593.75</td>\n",
              "      <td>96015.10</td>\n",
              "      <td>52815.80</td>\n",
              "    </tr>\n",
              "    <tr>\n",
              "      <th>1</th>\n",
              "      <td>2</td>\n",
              "      <td>14347.25</td>\n",
              "      <td>15020.90</td>\n",
              "      <td>7137.35</td>\n",
              "      <td>4670.85</td>\n",
              "    </tr>\n",
              "    <tr>\n",
              "      <th>2</th>\n",
              "      <td>3</td>\n",
              "      <td>124934.10</td>\n",
              "      <td>119632.50</td>\n",
              "      <td>40733.95</td>\n",
              "      <td>61932.15</td>\n",
              "    </tr>\n",
              "    <tr>\n",
              "      <th>3</th>\n",
              "      <td>4</td>\n",
              "      <td>56293.05</td>\n",
              "      <td>46845.20</td>\n",
              "      <td>29758.35</td>\n",
              "      <td>18550.10</td>\n",
              "    </tr>\n",
              "    <tr>\n",
              "      <th>4</th>\n",
              "      <td>5</td>\n",
              "      <td>24230.50</td>\n",
              "      <td>18631.85</td>\n",
              "      <td>13106.50</td>\n",
              "      <td>3708.75</td>\n",
              "    </tr>\n",
              "    <tr>\n",
              "      <th>...</th>\n",
              "      <td>...</td>\n",
              "      <td>...</td>\n",
              "      <td>...</td>\n",
              "      <td>...</td>\n",
              "      <td>...</td>\n",
              "    </tr>\n",
              "    <tr>\n",
              "      <th>6</th>\n",
              "      <td>7</td>\n",
              "      <td>351.35</td>\n",
              "      <td>537.00</td>\n",
              "      <td>306.00</td>\n",
              "      <td>0.00</td>\n",
              "    </tr>\n",
              "    <tr>\n",
              "      <th>7</th>\n",
              "      <td>8</td>\n",
              "      <td>824.75</td>\n",
              "      <td>736.75</td>\n",
              "      <td>374.75</td>\n",
              "      <td>0.00</td>\n",
              "    </tr>\n",
              "    <tr>\n",
              "      <th>8</th>\n",
              "      <td>9</td>\n",
              "      <td>680.15</td>\n",
              "      <td>0.00</td>\n",
              "      <td>0.00</td>\n",
              "      <td>0.00</td>\n",
              "    </tr>\n",
              "    <tr>\n",
              "      <th>9</th>\n",
              "      <td>10</td>\n",
              "      <td>202.25</td>\n",
              "      <td>236.75</td>\n",
              "      <td>0.00</td>\n",
              "      <td>0.00</td>\n",
              "    </tr>\n",
              "    <tr>\n",
              "      <th>10</th>\n",
              "      <td>12</td>\n",
              "      <td>363413.85</td>\n",
              "      <td>302971.95</td>\n",
              "      <td>195149.95</td>\n",
              "      <td>95088.25</td>\n",
              "    </tr>\n",
              "  </tbody>\n",
              "</table>\n",
              "<p>11 rows × 5 columns</p>\n",
              "</div>\n",
              "      <button class=\"colab-df-convert\" onclick=\"convertToInteractive('df-dbf5195d-1bc0-4fac-8f41-501cc3b0f78c')\"\n",
              "              title=\"Convert this dataframe to an interactive table.\"\n",
              "              style=\"display:none;\">\n",
              "        \n",
              "  <svg xmlns=\"http://www.w3.org/2000/svg\" height=\"24px\"viewBox=\"0 0 24 24\"\n",
              "       width=\"24px\">\n",
              "    <path d=\"M0 0h24v24H0V0z\" fill=\"none\"/>\n",
              "    <path d=\"M18.56 5.44l.94 2.06.94-2.06 2.06-.94-2.06-.94-.94-2.06-.94 2.06-2.06.94zm-11 1L8.5 8.5l.94-2.06 2.06-.94-2.06-.94L8.5 2.5l-.94 2.06-2.06.94zm10 10l.94 2.06.94-2.06 2.06-.94-2.06-.94-.94-2.06-.94 2.06-2.06.94z\"/><path d=\"M17.41 7.96l-1.37-1.37c-.4-.4-.92-.59-1.43-.59-.52 0-1.04.2-1.43.59L10.3 9.45l-7.72 7.72c-.78.78-.78 2.05 0 2.83L4 21.41c.39.39.9.59 1.41.59.51 0 1.02-.2 1.41-.59l7.78-7.78 2.81-2.81c.8-.78.8-2.07 0-2.86zM5.41 20L4 18.59l7.72-7.72 1.47 1.35L5.41 20z\"/>\n",
              "  </svg>\n",
              "      </button>\n",
              "      \n",
              "  <style>\n",
              "    .colab-df-container {\n",
              "      display:flex;\n",
              "      flex-wrap:wrap;\n",
              "      gap: 12px;\n",
              "    }\n",
              "\n",
              "    .colab-df-convert {\n",
              "      background-color: #E8F0FE;\n",
              "      border: none;\n",
              "      border-radius: 50%;\n",
              "      cursor: pointer;\n",
              "      display: none;\n",
              "      fill: #1967D2;\n",
              "      height: 32px;\n",
              "      padding: 0 0 0 0;\n",
              "      width: 32px;\n",
              "    }\n",
              "\n",
              "    .colab-df-convert:hover {\n",
              "      background-color: #E2EBFA;\n",
              "      box-shadow: 0px 1px 2px rgba(60, 64, 67, 0.3), 0px 1px 3px 1px rgba(60, 64, 67, 0.15);\n",
              "      fill: #174EA6;\n",
              "    }\n",
              "\n",
              "    [theme=dark] .colab-df-convert {\n",
              "      background-color: #3B4455;\n",
              "      fill: #D2E3FC;\n",
              "    }\n",
              "\n",
              "    [theme=dark] .colab-df-convert:hover {\n",
              "      background-color: #434B5C;\n",
              "      box-shadow: 0px 1px 3px 1px rgba(0, 0, 0, 0.15);\n",
              "      filter: drop-shadow(0px 1px 2px rgba(0, 0, 0, 0.3));\n",
              "      fill: #FFFFFF;\n",
              "    }\n",
              "  </style>\n",
              "\n",
              "      <script>\n",
              "        const buttonEl =\n",
              "          document.querySelector('#df-dbf5195d-1bc0-4fac-8f41-501cc3b0f78c button.colab-df-convert');\n",
              "        buttonEl.style.display =\n",
              "          google.colab.kernel.accessAllowed ? 'block' : 'none';\n",
              "\n",
              "        async function convertToInteractive(key) {\n",
              "          const element = document.querySelector('#df-dbf5195d-1bc0-4fac-8f41-501cc3b0f78c');\n",
              "          const dataTable =\n",
              "            await google.colab.kernel.invokeFunction('convertToInteractive',\n",
              "                                                     [key], {});\n",
              "          if (!dataTable) return;\n",
              "\n",
              "          const docLinkHtml = 'Like what you see? Visit the ' +\n",
              "            '<a target=\"_blank\" href=https://colab.research.google.com/notebooks/data_table.ipynb>data table notebook</a>'\n",
              "            + ' to learn more about interactive tables.';\n",
              "          element.innerHTML = '';\n",
              "          dataTable['output_type'] = 'display_data';\n",
              "          await google.colab.output.renderOutput(dataTable, element);\n",
              "          const docLink = document.createElement('div');\n",
              "          docLink.innerHTML = docLinkHtml;\n",
              "          element.appendChild(docLink);\n",
              "        }\n",
              "      </script>\n",
              "    </div>\n",
              "  </div>\n",
              "  "
            ]
          },
          "metadata": {},
          "execution_count": 75
        }
      ]
    },
    {
      "cell_type": "code",
      "source": [
        "import warnings\n",
        "warnings.filterwarnings('ignore')"
      ],
      "metadata": {
        "id": "-H38pHGzc1bn"
      },
      "id": "-H38pHGzc1bn",
      "execution_count": null,
      "outputs": []
    },
    {
      "cell_type": "code",
      "source": [
        "final_east=final[['month','east_revenue']]\n",
        "final_east['region'] = \"East\""
      ],
      "metadata": {
        "id": "_JbXv9ugag1B"
      },
      "id": "_JbXv9ugag1B",
      "execution_count": null,
      "outputs": []
    },
    {
      "cell_type": "code",
      "source": [
        "final_west=final[['month','west_revenue']]\n",
        "final_west['region'] = \"West\""
      ],
      "metadata": {
        "id": "EQNIIhTWagtE"
      },
      "id": "EQNIIhTWagtE",
      "execution_count": null,
      "outputs": []
    },
    {
      "cell_type": "code",
      "source": [
        "final_north=final[['month','north_revenue']]\n",
        "final_north['region'] = \"North\""
      ],
      "metadata": {
        "id": "-WSg6MAragp9"
      },
      "id": "-WSg6MAragp9",
      "execution_count": null,
      "outputs": []
    },
    {
      "cell_type": "code",
      "source": [
        "final_south=final[['month','south_revenue']]\n",
        "final_south['region'] = \"South\""
      ],
      "metadata": {
        "id": "Qq1HbjzjdHaj"
      },
      "id": "Qq1HbjzjdHaj",
      "execution_count": null,
      "outputs": []
    },
    {
      "cell_type": "code",
      "source": [
        "vertical_df= pd.concat([final_east, final_west,final_north,final_south],axis=0)"
      ],
      "metadata": {
        "id": "KUc3JklxdU1H"
      },
      "id": "KUc3JklxdU1H",
      "execution_count": null,
      "outputs": []
    },
    {
      "cell_type": "code",
      "source": [
        "vertical_df=vertical_df.fillna(0)"
      ],
      "metadata": {
        "id": "zmQCoIGudUwY"
      },
      "id": "zmQCoIGudUwY",
      "execution_count": null,
      "outputs": []
    },
    {
      "cell_type": "code",
      "source": [
        "vertical_df[\"revenue\"]= vertical_df['east_revenue'] + vertical_df['west_revenue'] + vertical_df['north_revenue'] + vertical_df['south_revenue']"
      ],
      "metadata": {
        "id": "3qcdE2gsdUhz"
      },
      "id": "3qcdE2gsdUhz",
      "execution_count": null,
      "outputs": []
    },
    {
      "cell_type": "code",
      "source": [
        "vertical_df = vertical_df.reset_index(drop = True)"
      ],
      "metadata": {
        "id": "DAdeU4cpfq0F"
      },
      "id": "DAdeU4cpfq0F",
      "execution_count": null,
      "outputs": []
    },
    {
      "cell_type": "code",
      "source": [
        "vertical_df"
      ],
      "metadata": {
        "colab": {
          "base_uri": "https://localhost:8080/",
          "height": 423
        },
        "id": "Wp9RMmMgfqtr",
        "outputId": "21fd442d-796e-45e8-de50-2eea54b23779"
      },
      "id": "Wp9RMmMgfqtr",
      "execution_count": null,
      "outputs": [
        {
          "output_type": "execute_result",
          "data": {
            "text/plain": [
              "    month  east_revenue region  west_revenue  north_revenue  south_revenue  \\\n",
              "0       1     218740.60   East           0.0            0.0           0.00   \n",
              "1       2      14347.25   East           0.0            0.0           0.00   \n",
              "2       3     124934.10   East           0.0            0.0           0.00   \n",
              "3       4      56293.05   East           0.0            0.0           0.00   \n",
              "4       5      24230.50   East           0.0            0.0           0.00   \n",
              "..    ...           ...    ...           ...            ...            ...   \n",
              "39      7          0.00  South           0.0            0.0           0.00   \n",
              "40      8          0.00  South           0.0            0.0           0.00   \n",
              "41      9          0.00  South           0.0            0.0           0.00   \n",
              "42     10          0.00  South           0.0            0.0           0.00   \n",
              "43     12          0.00  South           0.0            0.0       95088.25   \n",
              "\n",
              "      revenue  \n",
              "0   218740.60  \n",
              "1    14347.25  \n",
              "2   124934.10  \n",
              "3    56293.05  \n",
              "4    24230.50  \n",
              "..        ...  \n",
              "39       0.00  \n",
              "40       0.00  \n",
              "41       0.00  \n",
              "42       0.00  \n",
              "43   95088.25  \n",
              "\n",
              "[44 rows x 7 columns]"
            ],
            "text/html": [
              "\n",
              "  <div id=\"df-1b0099cd-4cad-4ce2-becf-e23ea2c6c181\">\n",
              "    <div class=\"colab-df-container\">\n",
              "      <div>\n",
              "<style scoped>\n",
              "    .dataframe tbody tr th:only-of-type {\n",
              "        vertical-align: middle;\n",
              "    }\n",
              "\n",
              "    .dataframe tbody tr th {\n",
              "        vertical-align: top;\n",
              "    }\n",
              "\n",
              "    .dataframe thead th {\n",
              "        text-align: right;\n",
              "    }\n",
              "</style>\n",
              "<table border=\"1\" class=\"dataframe\">\n",
              "  <thead>\n",
              "    <tr style=\"text-align: right;\">\n",
              "      <th></th>\n",
              "      <th>month</th>\n",
              "      <th>east_revenue</th>\n",
              "      <th>region</th>\n",
              "      <th>west_revenue</th>\n",
              "      <th>north_revenue</th>\n",
              "      <th>south_revenue</th>\n",
              "      <th>revenue</th>\n",
              "    </tr>\n",
              "  </thead>\n",
              "  <tbody>\n",
              "    <tr>\n",
              "      <th>0</th>\n",
              "      <td>1</td>\n",
              "      <td>218740.60</td>\n",
              "      <td>East</td>\n",
              "      <td>0.0</td>\n",
              "      <td>0.0</td>\n",
              "      <td>0.00</td>\n",
              "      <td>218740.60</td>\n",
              "    </tr>\n",
              "    <tr>\n",
              "      <th>1</th>\n",
              "      <td>2</td>\n",
              "      <td>14347.25</td>\n",
              "      <td>East</td>\n",
              "      <td>0.0</td>\n",
              "      <td>0.0</td>\n",
              "      <td>0.00</td>\n",
              "      <td>14347.25</td>\n",
              "    </tr>\n",
              "    <tr>\n",
              "      <th>2</th>\n",
              "      <td>3</td>\n",
              "      <td>124934.10</td>\n",
              "      <td>East</td>\n",
              "      <td>0.0</td>\n",
              "      <td>0.0</td>\n",
              "      <td>0.00</td>\n",
              "      <td>124934.10</td>\n",
              "    </tr>\n",
              "    <tr>\n",
              "      <th>3</th>\n",
              "      <td>4</td>\n",
              "      <td>56293.05</td>\n",
              "      <td>East</td>\n",
              "      <td>0.0</td>\n",
              "      <td>0.0</td>\n",
              "      <td>0.00</td>\n",
              "      <td>56293.05</td>\n",
              "    </tr>\n",
              "    <tr>\n",
              "      <th>4</th>\n",
              "      <td>5</td>\n",
              "      <td>24230.50</td>\n",
              "      <td>East</td>\n",
              "      <td>0.0</td>\n",
              "      <td>0.0</td>\n",
              "      <td>0.00</td>\n",
              "      <td>24230.50</td>\n",
              "    </tr>\n",
              "    <tr>\n",
              "      <th>...</th>\n",
              "      <td>...</td>\n",
              "      <td>...</td>\n",
              "      <td>...</td>\n",
              "      <td>...</td>\n",
              "      <td>...</td>\n",
              "      <td>...</td>\n",
              "      <td>...</td>\n",
              "    </tr>\n",
              "    <tr>\n",
              "      <th>39</th>\n",
              "      <td>7</td>\n",
              "      <td>0.00</td>\n",
              "      <td>South</td>\n",
              "      <td>0.0</td>\n",
              "      <td>0.0</td>\n",
              "      <td>0.00</td>\n",
              "      <td>0.00</td>\n",
              "    </tr>\n",
              "    <tr>\n",
              "      <th>40</th>\n",
              "      <td>8</td>\n",
              "      <td>0.00</td>\n",
              "      <td>South</td>\n",
              "      <td>0.0</td>\n",
              "      <td>0.0</td>\n",
              "      <td>0.00</td>\n",
              "      <td>0.00</td>\n",
              "    </tr>\n",
              "    <tr>\n",
              "      <th>41</th>\n",
              "      <td>9</td>\n",
              "      <td>0.00</td>\n",
              "      <td>South</td>\n",
              "      <td>0.0</td>\n",
              "      <td>0.0</td>\n",
              "      <td>0.00</td>\n",
              "      <td>0.00</td>\n",
              "    </tr>\n",
              "    <tr>\n",
              "      <th>42</th>\n",
              "      <td>10</td>\n",
              "      <td>0.00</td>\n",
              "      <td>South</td>\n",
              "      <td>0.0</td>\n",
              "      <td>0.0</td>\n",
              "      <td>0.00</td>\n",
              "      <td>0.00</td>\n",
              "    </tr>\n",
              "    <tr>\n",
              "      <th>43</th>\n",
              "      <td>12</td>\n",
              "      <td>0.00</td>\n",
              "      <td>South</td>\n",
              "      <td>0.0</td>\n",
              "      <td>0.0</td>\n",
              "      <td>95088.25</td>\n",
              "      <td>95088.25</td>\n",
              "    </tr>\n",
              "  </tbody>\n",
              "</table>\n",
              "<p>44 rows × 7 columns</p>\n",
              "</div>\n",
              "      <button class=\"colab-df-convert\" onclick=\"convertToInteractive('df-1b0099cd-4cad-4ce2-becf-e23ea2c6c181')\"\n",
              "              title=\"Convert this dataframe to an interactive table.\"\n",
              "              style=\"display:none;\">\n",
              "        \n",
              "  <svg xmlns=\"http://www.w3.org/2000/svg\" height=\"24px\"viewBox=\"0 0 24 24\"\n",
              "       width=\"24px\">\n",
              "    <path d=\"M0 0h24v24H0V0z\" fill=\"none\"/>\n",
              "    <path d=\"M18.56 5.44l.94 2.06.94-2.06 2.06-.94-2.06-.94-.94-2.06-.94 2.06-2.06.94zm-11 1L8.5 8.5l.94-2.06 2.06-.94-2.06-.94L8.5 2.5l-.94 2.06-2.06.94zm10 10l.94 2.06.94-2.06 2.06-.94-2.06-.94-.94-2.06-.94 2.06-2.06.94z\"/><path d=\"M17.41 7.96l-1.37-1.37c-.4-.4-.92-.59-1.43-.59-.52 0-1.04.2-1.43.59L10.3 9.45l-7.72 7.72c-.78.78-.78 2.05 0 2.83L4 21.41c.39.39.9.59 1.41.59.51 0 1.02-.2 1.41-.59l7.78-7.78 2.81-2.81c.8-.78.8-2.07 0-2.86zM5.41 20L4 18.59l7.72-7.72 1.47 1.35L5.41 20z\"/>\n",
              "  </svg>\n",
              "      </button>\n",
              "      \n",
              "  <style>\n",
              "    .colab-df-container {\n",
              "      display:flex;\n",
              "      flex-wrap:wrap;\n",
              "      gap: 12px;\n",
              "    }\n",
              "\n",
              "    .colab-df-convert {\n",
              "      background-color: #E8F0FE;\n",
              "      border: none;\n",
              "      border-radius: 50%;\n",
              "      cursor: pointer;\n",
              "      display: none;\n",
              "      fill: #1967D2;\n",
              "      height: 32px;\n",
              "      padding: 0 0 0 0;\n",
              "      width: 32px;\n",
              "    }\n",
              "\n",
              "    .colab-df-convert:hover {\n",
              "      background-color: #E2EBFA;\n",
              "      box-shadow: 0px 1px 2px rgba(60, 64, 67, 0.3), 0px 1px 3px 1px rgba(60, 64, 67, 0.15);\n",
              "      fill: #174EA6;\n",
              "    }\n",
              "\n",
              "    [theme=dark] .colab-df-convert {\n",
              "      background-color: #3B4455;\n",
              "      fill: #D2E3FC;\n",
              "    }\n",
              "\n",
              "    [theme=dark] .colab-df-convert:hover {\n",
              "      background-color: #434B5C;\n",
              "      box-shadow: 0px 1px 3px 1px rgba(0, 0, 0, 0.15);\n",
              "      filter: drop-shadow(0px 1px 2px rgba(0, 0, 0, 0.3));\n",
              "      fill: #FFFFFF;\n",
              "    }\n",
              "  </style>\n",
              "\n",
              "      <script>\n",
              "        const buttonEl =\n",
              "          document.querySelector('#df-1b0099cd-4cad-4ce2-becf-e23ea2c6c181 button.colab-df-convert');\n",
              "        buttonEl.style.display =\n",
              "          google.colab.kernel.accessAllowed ? 'block' : 'none';\n",
              "\n",
              "        async function convertToInteractive(key) {\n",
              "          const element = document.querySelector('#df-1b0099cd-4cad-4ce2-becf-e23ea2c6c181');\n",
              "          const dataTable =\n",
              "            await google.colab.kernel.invokeFunction('convertToInteractive',\n",
              "                                                     [key], {});\n",
              "          if (!dataTable) return;\n",
              "\n",
              "          const docLinkHtml = 'Like what you see? Visit the ' +\n",
              "            '<a target=\"_blank\" href=https://colab.research.google.com/notebooks/data_table.ipynb>data table notebook</a>'\n",
              "            + ' to learn more about interactive tables.';\n",
              "          element.innerHTML = '';\n",
              "          dataTable['output_type'] = 'display_data';\n",
              "          await google.colab.output.renderOutput(dataTable, element);\n",
              "          const docLink = document.createElement('div');\n",
              "          docLink.innerHTML = docLinkHtml;\n",
              "          element.appendChild(docLink);\n",
              "        }\n",
              "      </script>\n",
              "    </div>\n",
              "  </div>\n",
              "  "
            ]
          },
          "metadata": {},
          "execution_count": 123
        }
      ]
    },
    {
      "cell_type": "code",
      "source": [
        "plt.figure(figsize=(18,7))\n",
        "sns.lineplot(data = vertical_df , x = 'month' , y = 'revenue',marker='o',linewidth=1,linestyle='--',color='r',hue='region')\n",
        "plt.title('Monthly Revenue Region_wise')\n",
        "plt.show()"
      ],
      "metadata": {
        "colab": {
          "base_uri": "https://localhost:8080/",
          "height": 458
        },
        "id": "1NBiBd6Nfqq4",
        "outputId": "a7cab1e5-1ab8-49dc-cb10-125f95c6f1de"
      },
      "id": "1NBiBd6Nfqq4",
      "execution_count": null,
      "outputs": [
        {
          "output_type": "display_data",
          "data": {
            "text/plain": [
              "<Figure size 1296x504 with 1 Axes>"
            ],
            "image/png": "[encoded data removed]"
          },
          "metadata": {
            "needs_background": "light"
          }
        }
      ]
    },
    {
      "cell_type": "markdown",
      "id": "dac59dc4",
      "metadata": {
        "id": "dac59dc4"
      },
      "source": [
        "### Ans 9 b)  Identify the best and the worst performing months for each region."
      ]
    },
    {
      "cell_type": "markdown",
      "source": [
        "### **Inference-**\n",
        "\n",
        "*   The best performing month for all the four regions is December as revenue is at its peak in december for all the 4 regions.\n",
        "*   Common worst performing month for all the regions is November, as there is no datapoint showing any sort of revenue generation in November for any region. \n",
        "*   One more common scenario is that there is a very little or no revenue for all the regions for months july , august , september and october. \n",
        "*   Februrary is also not so good for all the regions in terms of revenue. \n",
        "\n",
        "\n",
        "\n"
      ],
      "metadata": {
        "id": "a4jeaN7_XIk5"
      },
      "id": "a4jeaN7_XIk5"
    },
    {
      "cell_type": "markdown",
      "source": [
        "\n",
        "\n",
        "\n",
        "**Region wise best revenue months are-**\n",
        "\n",
        "**East**- December\n",
        "\n",
        "**West**- December\n",
        "\n",
        "**North-** December\n",
        "\n",
        "**South**- December\n",
        "\n",
        "\n",
        "\n",
        "\n",
        "**Region wise low revenue months are-**\n",
        "\n",
        "**East**- july, august , september , october\n",
        "\n",
        "**West**- july, august , september, october\n",
        "\n",
        "**North-** july, august , september , october\n",
        "\n",
        "**South**- july, august , september , october\n",
        "\n",
        "**TO BE MORE SPECIFIC:Region wise Worst Revenue Months with Zero Revenue are-**\n",
        "\n",
        "**East** - None                                \n",
        "\n",
        "**West** -  September                         \n",
        "\n",
        "**North** -  September , Octuber             \n",
        "\n",
        "**South**-  July, August,September , Octuber \n",
        "\n",
        "\n",
        "\n",
        "\n"
      ],
      "metadata": {
        "id": "cRV6V_B0mKkC"
      },
      "id": "cRV6V_B0mKkC"
    },
    {
      "cell_type": "markdown",
      "id": "dcb8d39f",
      "metadata": {
        "id": "dcb8d39f"
      },
      "source": [
        "<font color='blue'>\n",
        "    <font size = 5>\n",
        "    Congratulations! You have learnt how to approach a complex data and extract information out of it. \n",
        "    </font>"
      ]
    }
  ],
  "metadata": {
    "kernelspec": {
      "display_name": "Python 3",
      "language": "python",
      "name": "python3"
    },
    "language_info": {
      "codemirror_mode": {
        "name": "ipython",
        "version": 3
      },
      "file_extension": ".py",
      "mimetype": "text/x-python",
      "name": "python",
      "nbconvert_exporter": "python",
      "pygments_lexer": "ipython3",
      "version": "3.8.8"
    },
    "colab": {
      "provenance": [],
      "collapsed_sections": [
        "a9f81605"
      ]
    }
  },
  "nbformat": 4,
  "nbformat_minor": 5
}